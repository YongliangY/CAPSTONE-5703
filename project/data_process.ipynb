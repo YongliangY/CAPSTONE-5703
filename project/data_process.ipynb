{
 "cells": [
  {
   "cell_type": "code",
   "id": "8eedf704",
   "metadata": {
    "ExecuteTime": {
     "end_time": "2025-04-26T04:27:01.548688Z",
     "start_time": "2025-04-26T04:26:58.955745Z"
    }
   },
   "source": [
    "import pandas as pd\n",
    "import numpy as np\n",
    "from sklearn.impute import SimpleImputer\n",
    "from sklearn.preprocessing import StandardScaler\n",
    "from sklearn.model_selection import train_test_split\n",
    "\n",
    "# Step 1: Load the dataset\n",
    "df = pd.read_excel('RC_Shear_Wall_Database_20240514.xlsx')\n",
    "failure_mode_counts = df['FailureMode'].value_counts().sort_index()\n",
    "print(\"Failure Mode Counts:\")\n",
    "print(failure_mode_counts)"
   ],
   "outputs": [
    {
     "name": "stdout",
     "output_type": "stream",
     "text": [
      "Failure Mode Counts:\n",
      "FailureMode\n",
      "1    183\n",
      "2     30\n",
      "3    188\n",
      "4     28\n",
      "Name: count, dtype: int64\n"
     ]
    }
   ],
   "execution_count": 1
  },
  {
   "cell_type": "code",
   "id": "eb2ec6c4",
   "metadata": {
    "ExecuteTime": {
     "end_time": "2025-04-26T04:27:01.575862Z",
     "start_time": "2025-04-26T04:27:01.569712Z"
    }
   },
   "source": [
    "# Step 2: Remove missing values\n",
    "missing_rate = df.isnull().mean()\n",
    "# Filter out columns with a missing rate of less than 5% and retain these columns\n",
    "df_filtered = df.loc[:, missing_rate <= 0.05]\n",
    "print(\"Retain attributes that are missing less than 5%：\", df_filtered.columns.tolist())"
   ],
   "outputs": [
    {
     "name": "stdout",
     "output_type": "stream",
     "text": [
      "Retain attributes that are missing less than 5%： ['Author', 'Specimen', 'FailureMode', 'τ/fc', 'θu', 'M/Vlw', 'lw/tw', 'ρvwFy,vw/fc', 'ρhwFy,vw/fc', 'ρvcFy,vc/fc', 'ρhcFy,hc/fc', 'P/fcAg', 'Section', 'Ab/Ag', 'Vtest/Ag/sqrt(fc)', 'V@M/Vn_GB', 'V@M/Vn_ACI', 'V@M/Vtest', 'Vn_GB/Vtest', 'Vn_ACI/Vtest', 'Vtest', 'Vn_ACI', 'Vn_GB', 'alpha_c', 'lamda', 'N', 'Vc', 'Vs', 'P', 'fc', 'ft', 'alpha1', 'beta1', 'lw', \"as'\", 'lw0', 'tw', 'h', 'Aw', 'A', 'Ag', 'Fy,hw', 'Fy,vw', 'Fy,vc', 'ρvw', 'ρhw', 'V@moment', 'ForceEquilibrium', 'Moment', 'x_real', 'eps_cu', 'Ec', 'Es', 'DRein.1', 'DRein.2', 'DRein.3', 'DRein.4', 'DRein.5', 'Area1', 'Area2', 'Area3', 'Area4', 'Area5', 'Force1', 'Force2', 'Force3', 'Force4', 'Force5', 'Moment1', 'Moment2', 'Moment3', 'Moment4', 'Moment5', 'No']\n"
     ]
    }
   ],
   "execution_count": 2
  },
  {
   "cell_type": "code",
   "id": "718b8a62",
   "metadata": {
    "ExecuteTime": {
     "end_time": "2025-04-26T04:27:01.591730Z",
     "start_time": "2025-04-26T04:27:01.587882Z"
    }
   },
   "source": [
    "cols_with_missing = df_filtered.columns[df_filtered.isnull().any()]\n",
    "print(\"Columns that still contain missing values：\", cols_with_missing.tolist())"
   ],
   "outputs": [
    {
     "name": "stdout",
     "output_type": "stream",
     "text": [
      "Columns that still contain missing values： ['DRein.5', 'Area5', 'Force5', 'Moment5']\n"
     ]
    }
   ],
   "execution_count": 3
  },
  {
   "cell_type": "code",
   "id": "be3459ed",
   "metadata": {
    "ExecuteTime": {
     "end_time": "2025-04-26T04:27:01.996709Z",
     "start_time": "2025-04-26T04:27:01.993351Z"
    }
   },
   "source": [
    "df = df_filtered.drop(columns=['Author', 'Specimen','No','DRein.5', 'Area5', 'Force5', 'Moment5'])"
   ],
   "outputs": [],
   "execution_count": 4
  },
  {
   "cell_type": "code",
   "id": "52655a9c",
   "metadata": {
    "ExecuteTime": {
     "end_time": "2025-04-26T04:27:02.011802Z",
     "start_time": "2025-04-26T04:27:02.007615Z"
    }
   },
   "source": [
    "print(df.isnull().sum())"
   ],
   "outputs": [
    {
     "name": "stdout",
     "output_type": "stream",
     "text": [
      "FailureMode    0\n",
      "τ/fc           0\n",
      "θu             0\n",
      "M/Vlw          0\n",
      "lw/tw          0\n",
      "              ..\n",
      "Force4         0\n",
      "Moment1        0\n",
      "Moment2        0\n",
      "Moment3        0\n",
      "Moment4        0\n",
      "Length: 67, dtype: int64\n"
     ]
    }
   ],
   "execution_count": 5
  },
  {
   "cell_type": "code",
   "id": "8f9b494e",
   "metadata": {
    "ExecuteTime": {
     "end_time": "2025-04-26T04:27:02.108260Z",
     "start_time": "2025-04-26T04:27:02.088268Z"
    }
   },
   "source": [
    "df.to_csv('processed_dataset.csv', index=True)"
   ],
   "outputs": [],
   "execution_count": 6
  },
  {
   "cell_type": "code",
   "id": "44aa4576",
   "metadata": {
    "ExecuteTime": {
     "end_time": "2025-04-26T04:27:02.176182Z",
     "start_time": "2025-04-26T04:27:02.136810Z"
    }
   },
   "source": [
    "from sklearn.preprocessing import MinMaxScaler\n",
    "df = pd.read_csv('processed_dataset.csv')\n",
    "section_dummies = pd.get_dummies(df['Section'], prefix='Section', dtype=int)\n",
    "df = df.drop(columns=['Section'])\n",
    "columns_to_normalize = df.columns.drop('FailureMode')\n",
    "scaler = MinMaxScaler()\n",
    "df_normalized = df.copy()\n",
    "df_normalized[columns_to_normalize] = scaler.fit_transform(df_normalized[columns_to_normalize])\n",
    "df_normalized = pd.concat([df_normalized, section_dummies], axis=1)\n",
    "\n",
    "df_normalized.to_csv('normalized_dataset.csv', index=False)"
   ],
   "outputs": [],
   "execution_count": 7
  },
  {
   "cell_type": "code",
   "id": "e511790e",
   "metadata": {
    "ExecuteTime": {
     "end_time": "2025-04-26T04:27:04.601530Z",
     "start_time": "2025-04-26T04:27:02.183319Z"
    }
   },
   "source": [
    "from sklearn.model_selection import train_test_split\n",
    "from imblearn.over_sampling import SMOTE\n",
    "from collections import Counter\n",
    "from sklearn.preprocessing import StandardScaler\n",
    "from sklearn.decomposition import PCA\n",
    "import matplotlib.pyplot as plt\n",
    "\n",
    "df_processed = df_normalized\n",
    "\n",
    "# flexure:1, flexure-shear: 2, shear:3, sliding shear: 4\n",
    "X = df_processed.drop(columns=['FailureMode'])\n",
    "y = df_processed['FailureMode']\n",
    "\n",
    "num_cols = X.select_dtypes(include=['int64', 'float64']).columns.tolist()\n",
    "cat_cols = X.select_dtypes(include=['object']).columns.tolist()\n",
    "\n",
    "X_train, X_test, y_train, y_test = train_test_split(\n",
    "    X, y, test_size=0.2, random_state=42, stratify=y\n",
    ")\n",
    "print(\"Training set original class distribution：\", Counter(y_train))\n",
    "\n",
    "scaler = StandardScaler()\n",
    "X_train_scaled = scaler.fit_transform(X_train)\n",
    "X_test_scaled = scaler.transform(X_test)\n",
    "\n",
    "smote = SMOTE(sampling_strategy='auto', random_state=42)\n",
    "X_train_res, y_train_res = smote.fit_resample(X_train_scaled, y_train)\n",
    "print(\"Training set class distribution after SMOTE：\", Counter(y_train_res))\n",
    "\n",
    "orig_counts = Counter(y_train)\n",
    "resampled_counts = Counter(y_train_res)\n",
    "\n",
    "classes = list(orig_counts.keys())\n",
    "orig_values = [orig_counts[k] for k in classes]\n",
    "resampled_values = [resampled_counts[k] for k in classes]\n",
    "\n",
    "x_pos = np.arange(len(classes))\n",
    "width = 0.35\n",
    "\n",
    "fig, ax = plt.subplots()\n",
    "rects1 = ax.bar(x_pos - width/2, orig_values, width, label='Original')\n",
    "rects2 = ax.bar(x_pos + width/2, resampled_values, width, label='After SMOTE')\n",
    "\n",
    "ax.set_xlabel('Class')\n",
    "ax.set_ylabel('Number of Samples')\n",
    "ax.set_title('Class Distribution Before and After SMOTE')\n",
    "ax.set_xticks(x_pos)\n",
    "ax.set_xticklabels(classes)\n",
    "ax.legend()\n",
    "plt.show()\n",
    "\n",
    "\n",
    "# Apply PCA after SMOTE \n",
    "pca = PCA(n_components=0.95, random_state=42)\n",
    "X_train_res_pca = pca.fit_transform(X_train_res)\n",
    "X_test_pca = pca.transform(X_test_scaled)\n",
    "\n",
    "print(\"Training set after PCA:\", X_train_res_pca.shape)\n",
    "print(\"Test set after PCA:\", X_test_pca.shape)\n",
    "\n",
    "pca_full = PCA()\n",
    "pca_full.fit(X_train_res)\n",
    "\n",
    "explained_variance_ratio = pca_full.explained_variance_ratio_\n",
    "cumulative_variance = np.cumsum(explained_variance_ratio)\n",
    "\n",
    "plt.figure(figsize=(8, 6))\n",
    "plt.plot(range(1, len(cumulative_variance) + 1), cumulative_variance, marker='o', linestyle='--')\n",
    "plt.xlabel('Principal component quantity')\n",
    "plt.ylabel('Cumulative explanatory variance ratio')\n",
    "plt.title('Number of principal components of PCA')\n",
    "plt.grid(True)\n",
    "plt.show()"
   ],
   "outputs": [
    {
     "name": "stdout",
     "output_type": "stream",
     "text": [
      "Training set original class distribution： Counter({3: 150, 1: 146, 2: 24, 4: 23})\n",
      "Training set class distribution after SMOTE： Counter({3: 150, 1: 150, 2: 150, 4: 150})\n"
     ]
    },
    {
     "data": {
      "text/plain": [
       "<Figure size 640x480 with 1 Axes>"
      ],
      "image/png": "[encoded data removed]"
     },
     "metadata": {},
     "output_type": "display_data"
    },
    {
     "name": "stdout",
     "output_type": "stream",
     "text": [
      "Training set after PCA: (600, 21)\n",
      "Test set after PCA: (86, 21)\n"
     ]
    },
    {
     "data": {
      "text/plain": [
       "<Figure size 800x600 with 1 Axes>"
      ],
      "image/png": "[encoded data removed]"
     },
     "metadata": {},
     "output_type": "display_data"
    }
   ],
   "execution_count": 8
  },
  {
   "cell_type": "code",
   "id": "3777baa5",
   "metadata": {
    "ExecuteTime": {
     "end_time": "2025-04-26T04:27:04.775603Z",
     "start_time": "2025-04-26T04:27:04.737065Z"
    }
   },
   "source": [
    "train_df = pd.DataFrame(X_train_res_pca)\n",
    "train_df['failure mode'] = y_train_res.reset_index(drop=True)\n",
    "\n",
    "test_df = pd.DataFrame(X_test_pca)\n",
    "test_df['failure mode'] = y_test.reset_index(drop=True)\n",
    "\n",
    "train_df.to_csv('train_smote_pca.csv', index=False)\n",
    "test_df.to_csv('test_smote_pca.csv', index=False)\n"
   ],
   "outputs": [],
   "execution_count": 9
  },
  {
   "cell_type": "code",
   "id": "27f68bb5",
   "metadata": {
    "ExecuteTime": {
     "end_time": "2025-04-26T04:27:04.832873Z",
     "start_time": "2025-04-26T04:27:04.785588Z"
    }
   },
   "source": [
    "train_original_df = pd.DataFrame(X_train_scaled)\n",
    "train_original_df['failure mode'] = y_train.reset_index(drop=True)\n",
    "\n",
    "train_original_df.to_csv('train_original.csv', index=False)\n",
    "\n",
    "\n",
    "test_original_df = pd.DataFrame(X_test_scaled)\n",
    "test_original_df['failure mode'] = y_test.reset_index(drop=True)\n",
    "\n",
    "test_original_df.to_csv('test_original.csv', index=False)"
   ],
   "outputs": [],
   "execution_count": 10
  },
  {
   "cell_type": "code",
   "id": "27353b45",
   "metadata": {
    "ExecuteTime": {
     "end_time": "2025-04-26T04:27:04.983671Z",
     "start_time": "2025-04-26T04:27:04.913448Z"
    }
   },
   "source": [
    "train_smote_df = pd.DataFrame(X_train_res)\n",
    "train_smote_df['failure mode'] = y_train_res.reset_index(drop=True)\n",
    "train_smote_df.to_csv('train_smote.csv', index=False)\n",
    "\n",
    "test_smote_df = pd.DataFrame(X_test_scaled)\n",
    "test_smote_df['failure mode'] = y_test.reset_index(drop=True)\n",
    "test_smote_df.to_csv('test_smote.csv', index=False)"
   ],
   "outputs": [],
   "execution_count": 11
  },
  {
   "cell_type": "code",
   "id": "abaa6ad1",
   "metadata": {
    "ExecuteTime": {
     "end_time": "2025-04-26T04:27:05.120134Z",
     "start_time": "2025-04-26T04:27:05.073684Z"
    }
   },
   "source": [
    "pca_only = PCA(n_components=0.95, random_state=42)\n",
    "X_train_pca_only = pca_only.fit_transform(X_train_scaled)\n",
    "X_test_pca_only = pca_only.transform(X_test_scaled)\n",
    "\n",
    "train_pca_df = pd.DataFrame(X_train_pca_only)\n",
    "train_pca_df['failure mode'] = y_train.reset_index(drop=True)\n",
    "train_pca_df.to_csv('train_pca.csv', index=False)\n",
    "\n",
    "test_pca_df = pd.DataFrame(X_test_pca_only)\n",
    "test_pca_df['failure mode'] = y_test.reset_index(drop=True)\n",
    "test_pca_df.to_csv('test_pca.csv', index=False)"
   ],
   "outputs": [],
   "execution_count": 12
  },
  {
   "cell_type": "code",
   "id": "76614a68",
   "metadata": {
    "ExecuteTime": {
     "end_time": "2025-04-26T04:27:05.228188Z",
     "start_time": "2025-04-26T04:27:05.225207Z"
    }
   },
   "source": [],
   "outputs": [],
   "execution_count": null
  }
 ],
 "metadata": {
  "kernelspec": {
   "display_name": "Python 3 (ipykernel)",
   "language": "python",
   "name": "python3"
  },
  "language_info": {
   "codemirror_mode": {
    "name": "ipython",
    "version": 3
   },
   "file_extension": ".py",
   "mimetype": "text/x-python",
   "name": "python",
   "nbconvert_exporter": "python",
   "pygments_lexer": "ipython3",
   "version": "3.11.5"
  }
 },
 "nbformat": 4,
 "nbformat_minor": 5
}
