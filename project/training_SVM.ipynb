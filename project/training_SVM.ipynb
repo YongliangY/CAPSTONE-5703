{
 "cells": [
  {
   "cell_type": "code",
   "execution_count": 6,
   "id": "b0967ce1",
   "metadata": {},
   "outputs": [
    {
     "name": "stdout",
     "output_type": "stream",
     "text": [
      "Fitting 10 folds for each of 16 candidates, totalling 160 fits\n",
      "最佳参数配置: {'C': 10, 'gamma': 1, 'kernel': 'rbf'}\n",
      "最佳模型: SVC(C=10, gamma=1)\n",
      "\n",
      "混淆矩阵:\n",
      "[[33  3  1  0]\n",
      " [ 2  5  2  0]\n",
      " [ 0  1 33  0]\n",
      " [ 0  1  1  4]]\n",
      "\n",
      "分类报告:\n",
      "              precision    recall  f1-score   support\n",
      "\n",
      "           1       0.94      0.89      0.92        37\n",
      "           2       0.50      0.56      0.53         9\n",
      "           3       0.89      0.97      0.93        34\n",
      "           4       1.00      0.67      0.80         6\n",
      "\n",
      "    accuracy                           0.87        86\n",
      "   macro avg       0.83      0.77      0.79        86\n",
      "weighted avg       0.88      0.87      0.87        86\n",
      "\n",
      "\n",
      "准确率: 0.872093023255814\n"
     ]
    }
   ],
   "source": [
    "import pandas as pd\n",
    "from sklearn.model_selection import train_test_split, GridSearchCV\n",
    "from sklearn.decomposition import PCA\n",
    "from sklearn.svm import SVC\n",
    "from sklearn.metrics import classification_report, confusion_matrix, accuracy_score\n",
    "from imblearn.over_sampling import SMOTE\n",
    "\n",
    "# 1. 加载数据集\n",
    "df = pd.read_csv('normalized_dataset.csv')\n",
    "\n",
    "# 2. 分离特征和目标变量\n",
    "# 假设 'FailureMode' 为目标变量；'Unnamed: 0' 和 'Section' 不参与训练\n",
    "X = df.drop(['Unnamed: 0', 'FailureMode', 'Section'], axis=1)\n",
    "y = df['FailureMode']\n",
    "\n",
    "# 3. 划分训练集和测试集\n",
    "X_train, X_test, y_train, y_test = train_test_split(X, y, test_size=0.2, random_state=42)\n",
    "\n",
    "# 4. 对训练集应用 SMOTE 进行过采样（平衡类别）\n",
    "smote = SMOTE(random_state=42)\n",
    "X_train_smote, y_train_smote = smote.fit_resample(X_train, y_train)\n",
    "\n",
    "# 5. 使用 PCA 降维\n",
    "# 保留 95% 的方差，可以根据需要调整 n_components\n",
    "pca = PCA(n_components=0.95, random_state=42)\n",
    "X_train_pca = pca.fit_transform(X_train_smote)\n",
    "X_test_pca = pca.transform(X_test)\n",
    "\n",
    "# 6. 定义 SVM 模型的参数网格\n",
    "param_grid = {\n",
    "    'C': [20, 15, 10, 100],         # 惩罚参数\n",
    "    'gamma': [1, 1.1, 1.01, 1.001],   # 核函数参数\n",
    "    'kernel': ['rbf']               # 使用径向基核函数\n",
    "}\n",
    "\n",
    "# 7. 使用 GridSearchCV 结合 5 折交叉验证训练 SVM 模型\n",
    "grid = GridSearchCV(SVC(), param_grid, cv=10, verbose=2, n_jobs=-1)\n",
    "grid.fit(X_train_pca, y_train_smote)\n",
    "\n",
    "# 输出最佳参数和模型\n",
    "print(\"最佳参数配置:\", grid.best_params_)\n",
    "print(\"最佳模型:\", grid.best_estimator_)\n",
    "\n",
    "# 8. 在测试集上预测，并输出评估指标\n",
    "y_pred = grid.predict(X_test_pca)\n",
    "\n",
    "print(\"\\n混淆矩阵:\")\n",
    "print(confusion_matrix(y_test, y_pred))\n",
    "\n",
    "print(\"\\n分类报告:\")\n",
    "print(classification_report(y_test, y_pred))\n",
    "\n",
    "print(\"\\n准确率:\", accuracy_score(y_test, y_pred))\n"
   ]
  },
  {
   "cell_type": "code",
   "execution_count": null,
   "id": "be3ba0a7",
   "metadata": {},
   "outputs": [],
   "source": []
  }
 ],
 "metadata": {
  "kernelspec": {
   "display_name": "Python 3 (ipykernel)",
   "language": "python",
   "name": "python3"
  },
  "language_info": {
   "codemirror_mode": {
    "name": "ipython",
    "version": 3
   },
   "file_extension": ".py",
   "mimetype": "text/x-python",
   "name": "python",
   "nbconvert_exporter": "python",
   "pygments_lexer": "ipython3",
   "version": "3.11.5"
  }
 },
 "nbformat": 4,
 "nbformat_minor": 5
}
