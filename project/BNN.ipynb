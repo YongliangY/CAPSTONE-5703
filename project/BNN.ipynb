{
 "cells": [
  {
   "cell_type": "code",
   "id": "b6d55d1f6162cbef",
   "metadata": {
    "ExecuteTime": {
     "end_time": "2025-04-18T03:29:37.060980Z",
     "start_time": "2025-04-18T03:29:22.072645Z"
    }
   },
   "source": [
    "import pandas as pd\n",
    "import numpy as np\n",
    "import torch\n",
    "import torch.nn as nn\n",
    "import torch.optim as optim\n",
    "import torch.nn.functional as F\n",
    "from torch.utils.data import TensorDataset, DataLoader, Subset\n",
    "from sklearn.model_selection import KFold\n",
    "from sklearn.metrics import accuracy_score, precision_score, recall_score, f1_score\n",
    "import random\n",
    "from tqdm import tqdm\n",
    "import math\n",
    "\n",
    "# Fix random seeds for reproducibility\n",
    "torch.manual_seed(42)\n",
    "np.random.seed(42)\n",
    "random.seed(42)"
   ],
   "outputs": [],
   "execution_count": 1
  },
  {
   "cell_type": "code",
   "id": "867129ae530103e7",
   "metadata": {
    "ExecuteTime": {
     "end_time": "2025-04-18T09:47:43.440685Z",
     "start_time": "2025-04-18T09:47:43.368724Z"
    }
   },
   "source": [
    "\n",
    "# 1. Enhanced Data Loading and Preprocessing\n",
    "def load_data():\n",
    "    train_df = pd.read_csv('train_smote.csv')\n",
    "    test_df = pd.read_csv('test_smote.csv')\n",
    "\n",
    "    # Feature scaling (normalization)\n",
    "    train_features = train_df.drop(columns=['failure mode']).values.astype(np.float32)\n",
    "    test_features = test_df.drop(columns=['failure mode']).values.astype(np.float32)\n",
    "\n",
    "    # Normalize using training set statistics\n",
    "    feature_mean = train_features.mean(axis=0)\n",
    "    feature_std = train_features.std(axis=0) + 1e-8  # Avoid division by zero\n",
    "    train_features = (train_features - feature_mean) / feature_std\n",
    "    test_features = (test_features - feature_mean) / feature_std\n",
    "\n",
    "    # Labels (assuming classes start from 1)\n",
    "    train_labels = (train_df['failure mode'].values - 1).astype(np.int64)\n",
    "    test_labels = (test_df['failure mode'].values - 1).astype(np.int64)\n",
    "\n",
    "    # ===== 新增数据验证 =====\n",
    "    print(\"\\n=== 数据形状验证 ===\")\n",
    "    print(f\"训练数据形状: {train_features.shape}\")\n",
    "    print(f\"训练标签形状: {train_labels.shape}\")\n",
    "    print(f\"测试数据形状: {test_features.shape}\")\n",
    "    print(f\"测试标签形状: {test_labels.shape}\")\n",
    "    print(f\"唯一标签值: {np.unique(train_labels)}\")\n",
    "\n",
    "    assert train_features.shape[1] == test_features.shape[1], \"训练和测试特征维度不一致！\"\n",
    "    assert len(np.unique(train_labels)) == len(np.unique(test_labels)), \"训练和测试标签类别不一致！\"\n",
    "\n",
    "\n",
    "    return (train_features, train_labels), (test_features, test_labels)\n",
    "\n",
    "(train_features, train_labels), (test_features, test_labels) = load_data()\n",
    "\n",
    "# 2. Improved Bayesian Neural Network Implementation\n",
    "class BayesianLinear(nn.Module):\n",
    "    def __init__(self, in_features, out_features, prior_sigma1=1.0, prior_sigma2=0.1, prior_pi=0.5):\n",
    "        super().__init__()\n",
    "        self.in_features = in_features\n",
    "        self.out_features = out_features\n",
    "\n",
    "        # Weight parameters (mean and rho)\n",
    "        self.weight_mu = nn.Parameter(torch.Tensor(out_features, in_features).normal_(0, 0.1))\n",
    "        self.weight_rho = nn.Parameter(torch.Tensor(out_features, in_features).uniform_(-5, -4))\n",
    "\n",
    "        # Bias parameters (mean and rho)\n",
    "        self.bias_mu = nn.Parameter(torch.Tensor(out_features).normal_(0, 0.1))\n",
    "        self.bias_rho = nn.Parameter(torch.Tensor(out_features).uniform_(-5, -4))\n",
    "\n",
    "        # Scale mixture prior parameters\n",
    "        self.prior_sigma1 = prior_sigma1\n",
    "        self.prior_sigma2 = prior_sigma2\n",
    "        self.prior_pi = prior_pi\n",
    "\n",
    "        # Initialize prior distributions\n",
    "        self.weight_prior = self.scale_mixture_prior()\n",
    "        self.bias_prior = self.scale_mixture_prior()\n",
    "\n",
    "        # For KL divergence approximation\n",
    "        self.kl = 0\n",
    "    '''\n",
    "    def scale_mixture_prior(self):\n",
    "        return torch.distributions.Normal(0.0, torch.tensor([self.prior_sigma1, self.prior_sigma2]))\n",
    "    '''\n",
    "    def scale_mixture_prior(self):\n",
    "    # 创建尺度混合先验分布\n",
    "        mix = torch.distributions.Categorical(torch.tensor([self.prior_pi, 1.0 - self.prior_pi]))\n",
    "        comp = torch.distributions.Normal(\n",
    "            torch.tensor([0.0, 0.0]),\n",
    "            torch.tensor([self.prior_sigma1, self.prior_sigma2])\n",
    "        )\n",
    "        return torch.distributions.MixtureSameFamily(mix, comp)\n",
    "    '''\n",
    "    def forward(self, x, sample=True):\n",
    "        if sample:\n",
    "            # Sample weights and biases using reparameterization trick\n",
    "            weight_sigma = torch.log1p(torch.exp(self.weight_rho))\n",
    "            bias_sigma = torch.log1p(torch.exp(self.bias_rho))\n",
    "\n",
    "            eps_weight = torch.randn_like(self.weight_mu)\n",
    "            eps_bias = torch.randn_like(self.bias_mu)\n",
    "\n",
    "            weight = self.weight_mu + weight_sigma * eps_weight\n",
    "            bias = self.bias_mu + bias_sigma * eps_bias\n",
    "\n",
    "            # Compute KL divergence\n",
    "            self.kl = self.kl_divergence(weight, weight_sigma, bias, bias_sigma)\n",
    "        else:\n",
    "            weight = self.weight_mu\n",
    "            bias = self.bias_mu\n",
    "\n",
    "        return F.linear(x, weight, bias)\n",
    "    '''\n",
    "    def forward(self, x, sample=True):\n",
    "    # 输入维度验证\n",
    "        assert x.size(-1) == self.in_features, \\\n",
    "        f\"输入特征维度{x.size(-1)}与层输入特征数{self.in_features}不匹配\"\n",
    "\n",
    "        if sample:\n",
    "            weight_sigma = torch.log1p(torch.exp(self.weight_rho))\n",
    "            bias_sigma = torch.log1p(torch.exp(self.bias_rho))\n",
    "\n",
    "        # 采样时添加形状验证\n",
    "            assert self.weight_mu.shape == (self.out_features, self.in_features), \\\n",
    "            f\"权重mu形状应为{(self.out_features, self.in_features)}，实际为{self.weight_mu.shape}\"\n",
    "            assert self.bias_mu.shape == (self.out_features,), \\\n",
    "            f\"偏置mu形状应为{(self.out_features,)}, 实际为{self.bias_mu.shape}\"\n",
    "\n",
    "            eps_weight = torch.randn_like(self.weight_mu)\n",
    "            eps_bias = torch.randn_like(self.bias_mu)\n",
    "\n",
    "            weight = self.weight_mu + weight_sigma * eps_weight\n",
    "            bias = self.bias_mu + bias_sigma * eps_bias\n",
    "\n",
    "            self.kl = self.kl_divergence(weight, weight_sigma, bias, bias_sigma)\n",
    "        else:\n",
    "            weight = self.weight_mu\n",
    "            bias = self.bias_mu\n",
    "\n",
    "        output = F.linear(x, weight, bias)\n",
    "\n",
    "    # 输出维度验证\n",
    "        assert output.size(-1) == self.out_features, \\\n",
    "        f\"输出特征维度{output.size(-1)}与层输出特征数{self.out_features}不匹配\"\n",
    "\n",
    "        return output\n",
    "\n",
    "    def kl_divergence(self, weight, weight_sigma, bias, bias_sigma):\n",
    "        '''\n",
    "        # Posterior distributions\n",
    "        weight_post = torch.distributions.Normal(self.weight_mu, weight_sigma)\n",
    "        bias_post = torch.distributions.Normal(self.bias_mu, bias_sigma)\n",
    "\n",
    "        # KL divergence for weights\n",
    "        kl_weight = torch.distributions.kl.kl_divergence(weight_post, self.weight_prior).sum()\n",
    "        kl_bias = torch.distributions.kl.kl_divergence(bias_post, self.bias_prior).sum()\n",
    "        '''\n",
    "        # 权重后验分布\n",
    "        weight_post = torch.distributions.Normal(self.weight_mu, weight_sigma)\n",
    "    # 偏置后验分布\n",
    "        bias_post = torch.distributions.Normal(self.bias_mu, bias_sigma)\n",
    "\n",
    "    # 计算权重KL散度\n",
    "        kl_weight = torch.sum(torch.distributions.kl.kl_divergence(\n",
    "            weight_post,\n",
    "            torch.distributions.Normal(0, self.prior_sigma1)\n",
    "        ))\n",
    "\n",
    "    # 计算偏置KL散度\n",
    "        kl_bias = torch.sum(torch.distributions.kl.kl_divergence(\n",
    "            bias_post,\n",
    "            torch.distributions.Normal(0, self.prior_sigma1)\n",
    "        ))\n",
    "        return kl_weight + kl_bias"
   ],
   "outputs": [
    {
     "name": "stdout",
     "output_type": "stream",
     "text": [
      "\n",
      "=== 数据形状验证 ===\n",
      "训练数据形状: (676, 69)\n",
      "训练标签形状: (676,)\n",
      "测试数据形状: (43, 69)\n",
      "测试标签形状: (43,)\n",
      "唯一标签值: [0 1 2 3]\n"
     ]
    }
   ],
   "execution_count": 7
  },
  {
   "cell_type": "code",
   "id": "82f524d10f0c5768",
   "metadata": {
    "ExecuteTime": {
     "end_time": "2025-04-18T03:29:37.721185Z",
     "start_time": "2025-04-18T03:29:37.716344Z"
    }
   },
   "source": [
    "class BayesianMLP(nn.Module):\n",
    "    def __init__(self, input_dim, hidden_dims=[256, 128, 64], output_dim=4,\n",
    "                 dropout_prob=0.1, prior_sigma1=1.0, prior_sigma2=0.1, prior_pi=0.5):\n",
    "        super().__init__()\n",
    "        self.input_dim = input_dim\n",
    "        self.output_dim = output_dim\n",
    "\n",
    "        # Create Bayesian layers\n",
    "        layers = []\n",
    "        prev_dim = input_dim\n",
    "        for hidden_dim in hidden_dims:\n",
    "            layers.append(BayesianLinear(prev_dim, hidden_dim, prior_sigma1, prior_sigma2, prior_pi))\n",
    "            layers.append(nn.ReLU())\n",
    "            layers.append(nn.Dropout(dropout_prob))\n",
    "            prev_dim = hidden_dim\n",
    "\n",
    "        self.layers = nn.Sequential(*layers)\n",
    "        self.output_layer = BayesianLinear(prev_dim, output_dim, prior_sigma1, prior_sigma2, prior_pi)\n",
    "\n",
    "        # Total KL divergence\n",
    "        self.kl = 0\n",
    "\n",
    "         # ===== 新增模型结构验证 =====\n",
    "        print(\"\\n=== 模型结构验证 ===\")\n",
    "        print(f\"输入维度: {input_dim}\")\n",
    "        print(f\"隐藏层维度: {hidden_dims}\")\n",
    "        print(f\"输出维度: {output_dim}\")\n",
    "\n",
    "        # 测试前向传播\n",
    "        test_input = torch.randn(2, input_dim)  # 2个样本\n",
    "        print(f\"\\n测试输入形状: {test_input.shape}\")\n",
    "        test_output = self.forward(test_input)\n",
    "        print(f\"测试输出形状: {test_output.shape}\")\n",
    "        assert test_output.shape == (2, output_dim), f\"模型输出形状应为(2, {output_dim})，实际得到{test_output.shape}\"\n",
    "\n",
    "    def forward(self, x, sample=True):\n",
    "        self.kl = 0\n",
    "        x = self.layers(x)\n",
    "        x = self.output_layer(x, sample)\n",
    "        self.kl += self.output_layer.kl\n",
    "        return x\n",
    "\n",
    "    def get_kl(self):\n",
    "        return self.kl"
   ],
   "outputs": [],
   "execution_count": 3
  },
  {
   "cell_type": "code",
   "id": "18a678b8cb80d003",
   "metadata": {
    "ExecuteTime": {
     "end_time": "2025-04-18T03:29:37.748245Z",
     "start_time": "2025-04-18T03:29:37.742244Z"
    }
   },
   "source": [
    "\n",
    "# 3. Enhanced Training and Evaluation Functions\n",
    "def train_epoch(model, dataloader, optimizer, criterion, scaling_factor, device):\n",
    "    model.train()\n",
    "    total_loss = 0.0\n",
    "    correct = 0\n",
    "    total = 0\n",
    "\n",
    "    for inputs, targets in tqdm(dataloader, desc=\"Training\", leave=False):\n",
    "        inputs, targets = inputs.to(device), targets.to(device)\n",
    "\n",
    "        optimizer.zero_grad()\n",
    "\n",
    "        # Forward pass with sampling\n",
    "        outputs = model(inputs, sample=True)\n",
    "        loss = criterion(outputs, targets)\n",
    "\n",
    "        # Add KL divergence\n",
    "        kl = model.get_kl()\n",
    "        total_loss = loss + scaling_factor * kl\n",
    "\n",
    "        # Backward pass and optimize\n",
    "        total_loss.backward()\n",
    "        optimizer.step()\n",
    "\n",
    "        # Calculate accuracy\n",
    "        _, predicted = outputs.max(1)\n",
    "        total += targets.size(0)\n",
    "        correct += predicted.eq(targets).sum().item()\n",
    "\n",
    "    avg_loss = total_loss.item() / len(dataloader)\n",
    "    accuracy = 100. * correct / total\n",
    "    return avg_loss, accuracy\n",
    "\n",
    "def evaluate_model(model, dataloader, criterion, scaling_factor, device, num_samples=100):\n",
    "    model.eval()\n",
    "    all_probs = []\n",
    "    all_targets = []\n",
    "    total_loss = 0.0\n",
    "\n",
    "    # Get all targets first\n",
    "    with torch.no_grad():\n",
    "        for _, targets in dataloader:\n",
    "            all_targets.append(targets.cpu().numpy())\n",
    "    all_targets = np.concatenate(all_targets)\n",
    "\n",
    "    # Monte Carlo sampling\n",
    "    for _ in tqdm(range(num_samples), desc=\"Evaluating\", leave=False):\n",
    "        sample_probs = []\n",
    "        sample_loss = 0.0\n",
    "\n",
    "        for inputs, targets in dataloader:\n",
    "            inputs, targets = inputs.to(device), targets.to(device)\n",
    "\n",
    "            outputs = model(inputs, sample=True)\n",
    "            loss = criterion(outputs, targets)\n",
    "            kl = model.get_kl()\n",
    "            sample_loss += (loss + scaling_factor * kl).item()\n",
    "\n",
    "            probs = F.softmax(outputs, dim=1)\n",
    "            sample_probs.append(probs.detach().cpu().numpy())\n",
    "\n",
    "        all_probs.append(np.concatenate(sample_probs))\n",
    "        total_loss += sample_loss / len(dataloader)\n",
    "\n",
    "    # Calculate metrics\n",
    "    mean_probs = np.mean(all_probs, axis=0)\n",
    "    preds = np.argmax(mean_probs, axis=1)\n",
    "\n",
    "    avg_loss = total_loss / num_samples\n",
    "    acc = accuracy_score(all_targets, preds)\n",
    "    prec = precision_score(all_targets, preds, average='macro', zero_division=0)\n",
    "    rec = recall_score(all_targets, preds, average='macro', zero_division=0)\n",
    "    f1 = f1_score(all_targets, preds, average='macro', zero_division=0)\n",
    "\n",
    "    # Calculate uncertainty metrics\n",
    "    entropy = -np.sum(mean_probs * np.log(mean_probs + 1e-10), axis=1)\n",
    "    avg_entropy = np.mean(entropy)\n",
    "\n",
    "    return {\n",
    "        'loss': avg_loss,\n",
    "        'accuracy': acc,\n",
    "        'precision': prec,\n",
    "        'recall': rec,\n",
    "        'f1': f1,\n",
    "        'entropy': avg_entropy,\n",
    "        'probs': mean_probs\n",
    "    }"
   ],
   "outputs": [],
   "execution_count": 4
  },
  {
   "cell_type": "code",
   "id": "99c72e58aae68834",
   "metadata": {
    "ExecuteTime": {
     "end_time": "2025-04-18T03:29:37.774789Z",
     "start_time": "2025-04-18T03:29:37.767754Z"
    }
   },
   "source": [
    "\n",
    "# 4. Hyperparameter Optimization with Bayesian Approach\n",
    "class HyperparameterOptimizer:\n",
    "    def __init__(self, param_space, num_iter=20):\n",
    "        self.param_space = param_space\n",
    "        self.num_iter = num_iter\n",
    "        self.results = []\n",
    "\n",
    "    def suggest_params(self):\n",
    "        params = {}\n",
    "        for key, values in self.param_space.items():\n",
    "            if isinstance(values[0], (int, float)):\n",
    "                # Continuous parameter - sample from log space if specified\n",
    "                if 'log' in key:\n",
    "                    low = math.log10(values[0])\n",
    "                    high = math.log10(values[1])\n",
    "                    val = 10 ** random.uniform(low, high)\n",
    "                else:\n",
    "                    val = random.uniform(values[0], values[1])\n",
    "            else:\n",
    "                # Discrete parameter\n",
    "                val = random.choice(values)\n",
    "            params[key] = val\n",
    "        return params\n",
    "\n",
    "    def optimize(self, train_features, train_labels, device, n_folds=5):\n",
    "        best_score = -np.inf\n",
    "        best_params = None\n",
    "\n",
    "        for i in range(self.num_iter):\n",
    "            params = self.suggest_params()\n",
    "            print(f\"\\nIteration {i+1}/{self.num_iter}: Testing params {params}\")\n",
    "\n",
    "            # Cross-validation\n",
    "            kf = KFold(n_splits=n_folds, shuffle=True, random_state=42)\n",
    "            cv_scores = []\n",
    "\n",
    "            for fold, (train_idx, val_idx) in enumerate(kf.split(range(len(train_labels)))):\n",
    "                print(f\"  Fold {fold+1}/{n_folds}\")\n",
    "\n",
    "                # Create data loaders\n",
    "                train_dataset = TensorDataset(\n",
    "                    torch.tensor(train_features[train_idx]),\n",
    "                    torch.tensor(train_labels[train_idx])\n",
    "                )\n",
    "                val_dataset = TensorDataset(\n",
    "                    torch.tensor(train_features[val_idx]),\n",
    "                    torch.tensor(train_labels[val_idx])\n",
    "                )\n",
    "\n",
    "                train_loader = DataLoader(train_dataset, batch_size=int(params['batch_size']), shuffle=True)\n",
    "                val_loader = DataLoader(val_dataset, batch_size=int(params['batch_size']), shuffle=False)\n",
    "\n",
    "                # Initialize model\n",
    "                hidden_dims = [int(params['hidden_dim1']), int(params['hidden_dim2']), int(params['hidden_dim3'])]\n",
    "                model = BayesianMLP(\n",
    "                    input_dim=train_features.shape[1],\n",
    "                    hidden_dims=hidden_dims,\n",
    "                    output_dim=len(np.unique(train_labels)),\n",
    "                    dropout_prob=params['dropout'],\n",
    "                    prior_sigma1=params['prior_sigma1'],\n",
    "                    prior_sigma2=params['prior_sigma2'],\n",
    "                    prior_pi=params['prior_pi']\n",
    "                ).to(device)\n",
    "\n",
    "                optimizer = optim.Adam(model.parameters(), lr=params['lr'])\n",
    "                criterion = nn.CrossEntropyLoss()\n",
    "\n",
    "                # Train for a few epochs\n",
    "                for epoch in range(int(params['epochs_per_fold'])):\n",
    "                    train_loss, train_acc = train_epoch(\n",
    "                        model, train_loader, optimizer, criterion,\n",
    "                        params['scaling_factor'], device\n",
    "                    )\n",
    "                    print(f\"    Epoch {epoch+1}: Train Loss {train_loss:.4f}, Acc {train_acc:.2f}%\")\n",
    "\n",
    "                # Evaluate\n",
    "                val_results = evaluate_model(\n",
    "                    model, val_loader, criterion,\n",
    "                    params['scaling_factor'], device, num_samples=20\n",
    "                )\n",
    "                cv_scores.append(val_results['f1'])\n",
    "                print(f\"    Val F1: {val_results['f1']:.4f}\")\n",
    "\n",
    "            mean_score = np.mean(cv_scores)\n",
    "            self.results.append((params, mean_score))\n",
    "\n",
    "            if mean_score > best_score:\n",
    "                best_score = mean_score\n",
    "                best_params = params\n",
    "                print(f\"New best params found with F1: {best_score:.4f}\")\n",
    "\n",
    "        return best_params, best_score"
   ],
   "outputs": [],
   "execution_count": 5
  },
  {
   "cell_type": "code",
   "id": "initial_id",
   "metadata": {
    "ExecuteTime": {
     "end_time": "2025-04-18T03:31:48.004981Z",
     "start_time": "2025-04-18T03:29:38.020247Z"
    }
   },
   "source": [
    "\n",
    "# 5. Main Training Pipeline\n",
    "def main():\n",
    "    device = torch.device(\"cuda\" if torch.cuda.is_available() else \"cpu\")\n",
    "    print(f\"Using device: {device}\")\n",
    "\n",
    "    # Define hyperparameter search space\n",
    "    param_space = {\n",
    "        'lr': [1e-4, 1e-3],  # Learning rate\n",
    "        'batch_size': [16, 32, 64],\n",
    "        'hidden_dim1': [128, 256, 512],\n",
    "        'hidden_dim2': [64, 128, 256],\n",
    "        'hidden_dim3': [32, 64, 128],\n",
    "        'dropout': [0.1, 0.2, 0.3],\n",
    "        'scaling_factor': [1e-5, 1e-4, 1e-3],  # KL scaling\n",
    "        'prior_sigma1': [0.5, 1.0, 2.0],\n",
    "        'prior_sigma2': [0.01, 0.1, 0.5],\n",
    "        'prior_pi': [0.25, 0.5, 0.75],\n",
    "        'epochs_per_fold': [5, 10]\n",
    "    }\n",
    "\n",
    "    # Hyperparameter optimization\n",
    "    optimizer = HyperparameterOptimizer(param_space, num_iter=10)\n",
    "    best_params, best_score = optimizer.optimize(train_features, train_labels, device)\n",
    "\n",
    "    print(\"\\nBest Hyperparameters:\")\n",
    "    print(best_params)\n",
    "    print(f\"Best Validation F1: {best_score:.4f}\")\n",
    "\n",
    "    # Train final model with best params\n",
    "    print(\"\\nTraining final model...\")\n",
    "    train_dataset = TensorDataset(torch.tensor(train_features), torch.tensor(train_labels))\n",
    "    train_loader = DataLoader(train_dataset, batch_size=int(best_params['batch_size']), shuffle=True)\n",
    "\n",
    "    test_dataset = TensorDataset(torch.tensor(test_features), torch.tensor(test_labels))\n",
    "    test_loader = DataLoader(test_dataset, batch_size=int(best_params['batch_size']), shuffle=False)\n",
    "\n",
    "    final_model = BayesianMLP(\n",
    "        input_dim=train_features.shape[1],\n",
    "        hidden_dims=[int(best_params['hidden_dim1']),\n",
    "                     int(best_params['hidden_dim2']),\n",
    "                     int(best_params['hidden_dim3'])],\n",
    "        output_dim=len(np.unique(train_labels)),\n",
    "        dropout_prob=best_params['dropout'],\n",
    "        prior_sigma1=best_params['prior_sigma1'],\n",
    "        prior_sigma2=best_params['prior_sigma2'],\n",
    "        prior_pi=best_params['prior_pi']\n",
    "    ).to(device)\n",
    "\n",
    "    final_optimizer = optim.Adam(final_model.parameters(), lr=best_params['lr'])\n",
    "    criterion = nn.CrossEntropyLoss()\n",
    "\n",
    "    # Training loop\n",
    "    best_val_f1 = 0\n",
    "    for epoch in range(50):  # Train for more epochs\n",
    "        train_loss, train_acc = train_epoch(\n",
    "            final_model, train_loader, final_optimizer,\n",
    "            criterion, best_params['scaling_factor'], device\n",
    "        )\n",
    "\n",
    "        # Evaluate on test set periodically\n",
    "        if (epoch + 1) % 5 == 0:\n",
    "            test_results = evaluate_model(\n",
    "                final_model, test_loader, criterion,\n",
    "                best_params['scaling_factor'], device, num_samples=50\n",
    "            )\n",
    "\n",
    "            print(f\"\\nEpoch {epoch+1}:\")\n",
    "            print(f\"  Train Loss: {train_loss:.4f}, Acc: {train_acc:.2f}%\")\n",
    "            print(f\"  Test Results:\")\n",
    "            print(f\"    Loss: {test_results['loss']:.4f}\")\n",
    "            print(f\"    Accuracy: {test_results['accuracy']:.4f}\")\n",
    "            print(f\"    Precision: {test_results['precision']:.4f}\")\n",
    "            print(f\"    Recall: {test_results['recall']:.4f}\")\n",
    "            print(f\"    F1: {test_results['f1']:.4f}\")\n",
    "            print(f\"    Avg Entropy: {test_results['entropy']:.4f}\")\n",
    "\n",
    "    # Final evaluation with more samples\n",
    "    print(\"\\nFinal Evaluation with 100 MC samples:\")\n",
    "    final_results = evaluate_model(\n",
    "        final_model, test_loader, criterion,\n",
    "        best_params['scaling_factor'], device, num_samples=100\n",
    "    )\n",
    "\n",
    "    print(\"\\n--- Final Test Results ---\")\n",
    "    print(f\"Accuracy: {final_results['accuracy']:.4f}\")\n",
    "    print(f\"Precision: {final_results['precision']:.4f}\")\n",
    "    print(f\"Recall: {final_results['recall']:.4f}\")\n",
    "    print(f\"F1-Score: {final_results['f1']:.4f}\")\n",
    "    print(f\"Average Predictive Entropy: {final_results['entropy']:.4f}\")\n",
    "\n",
    "if __name__ == \"__main__\":\n",
    "    main()"
   ],
   "outputs": [
    {
     "name": "stdout",
     "output_type": "stream",
     "text": [
      "Using device: cpu\n",
      "\n",
      "Iteration 1/10: Testing params {'lr': 0.0006754841186120954, 'batch_size': 16.400172083562673, 'hidden_dim1': 163.20375275124726, 'hidden_dim2': 78.28548724152466, 'hidden_dim3': 55.5670788532484, 'dropout': 0.16766994874229113, 'scaling_factor': 9.02961610934361e-05, 'prior_sigma1': 0.543469416314708, 'prior_sigma2': 0.04797296377167434, 'prior_pi': 0.25744930485951756, 'epochs_per_fold': 6.093189874018017}\n",
      "  Fold 1/5\n",
      "\n",
      "=== 模型结构验证 ===\n",
      "输入维度: 69\n",
      "隐藏层维度: [163, 78, 55]\n",
      "输出维度: 4\n",
      "\n",
      "测试输入形状: torch.Size([2, 69])\n",
      "测试输出形状: torch.Size([2, 4])\n"
     ]
    },
    {
     "name": "stderr",
     "output_type": "stream",
     "text": [
      "                                                          \r"
     ]
    },
    {
     "name": "stdout",
     "output_type": "stream",
     "text": [
      "    Epoch 1: Train Loss 0.0331, Acc 47.04%\n"
     ]
    },
    {
     "name": "stderr",
     "output_type": "stream",
     "text": [
      "                                                          \r"
     ]
    },
    {
     "name": "stdout",
     "output_type": "stream",
     "text": [
      "    Epoch 2: Train Loss 0.0230, Acc 72.04%\n"
     ]
    },
    {
     "name": "stderr",
     "output_type": "stream",
     "text": [
      "                                                          \r"
     ]
    },
    {
     "name": "stdout",
     "output_type": "stream",
     "text": [
      "    Epoch 3: Train Loss 0.0162, Acc 80.93%\n"
     ]
    },
    {
     "name": "stderr",
     "output_type": "stream",
     "text": [
      "                                                          \r"
     ]
    },
    {
     "name": "stdout",
     "output_type": "stream",
     "text": [
      "    Epoch 4: Train Loss 0.0132, Acc 85.74%\n"
     ]
    },
    {
     "name": "stderr",
     "output_type": "stream",
     "text": [
      "                                                          \r"
     ]
    },
    {
     "name": "stdout",
     "output_type": "stream",
     "text": [
      "    Epoch 5: Train Loss 0.0115, Acc 88.15%\n"
     ]
    },
    {
     "name": "stderr",
     "output_type": "stream",
     "text": [
      "                                                          \r"
     ]
    },
    {
     "name": "stdout",
     "output_type": "stream",
     "text": [
      "    Epoch 6: Train Loss 0.0103, Acc 90.56%\n"
     ]
    },
    {
     "name": "stderr",
     "output_type": "stream",
     "text": [
      "                                                           \r"
     ]
    },
    {
     "name": "stdout",
     "output_type": "stream",
     "text": [
      "    Val F1: 0.9251\n",
      "  Fold 2/5\n",
      "\n",
      "=== 模型结构验证 ===\n",
      "输入维度: 69\n",
      "隐藏层维度: [163, 78, 55]\n",
      "输出维度: 4\n",
      "\n",
      "测试输入形状: torch.Size([2, 69])\n",
      "测试输出形状: torch.Size([2, 4])\n"
     ]
    },
    {
     "name": "stderr",
     "output_type": "stream",
     "text": [
      "                                                          \r"
     ]
    },
    {
     "name": "stdout",
     "output_type": "stream",
     "text": [
      "    Epoch 1: Train Loss 0.0332, Acc 49.91%\n"
     ]
    },
    {
     "name": "stderr",
     "output_type": "stream",
     "text": [
      "                                                          \r"
     ]
    },
    {
     "name": "stdout",
     "output_type": "stream",
     "text": [
      "    Epoch 2: Train Loss 0.0174, Acc 73.75%\n"
     ]
    },
    {
     "name": "stderr",
     "output_type": "stream",
     "text": [
      "                                                          \r"
     ]
    },
    {
     "name": "stdout",
     "output_type": "stream",
     "text": [
      "    Epoch 3: Train Loss 0.0162, Acc 83.18%\n"
     ]
    },
    {
     "name": "stderr",
     "output_type": "stream",
     "text": [
      "                                                          \r"
     ]
    },
    {
     "name": "stdout",
     "output_type": "stream",
     "text": [
      "    Epoch 4: Train Loss 0.0137, Acc 87.06%\n"
     ]
    },
    {
     "name": "stderr",
     "output_type": "stream",
     "text": [
      "                                                          \r"
     ]
    },
    {
     "name": "stdout",
     "output_type": "stream",
     "text": [
      "    Epoch 5: Train Loss 0.0132, Acc 89.83%\n"
     ]
    },
    {
     "name": "stderr",
     "output_type": "stream",
     "text": [
      "                                                          \r"
     ]
    },
    {
     "name": "stdout",
     "output_type": "stream",
     "text": [
      "    Epoch 6: Train Loss 0.0187, Acc 91.68%\n"
     ]
    },
    {
     "name": "stderr",
     "output_type": "stream",
     "text": [
      "                                                           \r"
     ]
    },
    {
     "name": "stdout",
     "output_type": "stream",
     "text": [
      "    Val F1: 0.9363\n",
      "  Fold 3/5\n",
      "\n",
      "=== 模型结构验证 ===\n",
      "输入维度: 69\n",
      "隐藏层维度: [163, 78, 55]\n",
      "输出维度: 4\n",
      "\n",
      "测试输入形状: torch.Size([2, 69])\n",
      "测试输出形状: torch.Size([2, 4])\n"
     ]
    },
    {
     "name": "stderr",
     "output_type": "stream",
     "text": [
      "                                                          \r"
     ]
    },
    {
     "name": "stdout",
     "output_type": "stream",
     "text": [
      "    Epoch 1: Train Loss 0.0332, Acc 47.69%\n"
     ]
    },
    {
     "name": "stderr",
     "output_type": "stream",
     "text": [
      "                                                          \r"
     ]
    },
    {
     "name": "stdout",
     "output_type": "stream",
     "text": [
      "    Epoch 2: Train Loss 0.0162, Acc 74.86%\n"
     ]
    },
    {
     "name": "stderr",
     "output_type": "stream",
     "text": [
      "                                                          \r"
     ]
    },
    {
     "name": "stdout",
     "output_type": "stream",
     "text": [
      "    Epoch 3: Train Loss 0.0144, Acc 82.99%\n"
     ]
    },
    {
     "name": "stderr",
     "output_type": "stream",
     "text": [
      "                                                          \r"
     ]
    },
    {
     "name": "stdout",
     "output_type": "stream",
     "text": [
      "    Epoch 4: Train Loss 0.0065, Acc 86.32%\n"
     ]
    },
    {
     "name": "stderr",
     "output_type": "stream",
     "text": [
      "                                                          \r"
     ]
    },
    {
     "name": "stdout",
     "output_type": "stream",
     "text": [
      "    Epoch 5: Train Loss 0.0163, Acc 88.72%\n"
     ]
    },
    {
     "name": "stderr",
     "output_type": "stream",
     "text": [
      "                                                          \r"
     ]
    },
    {
     "name": "stdout",
     "output_type": "stream",
     "text": [
      "    Epoch 6: Train Loss 0.0209, Acc 91.31%\n"
     ]
    },
    {
     "name": "stderr",
     "output_type": "stream",
     "text": [
      "                                                           \r"
     ]
    },
    {
     "name": "stdout",
     "output_type": "stream",
     "text": [
      "    Val F1: 0.9110\n",
      "  Fold 4/5\n",
      "\n",
      "=== 模型结构验证 ===\n",
      "输入维度: 69\n",
      "隐藏层维度: [163, 78, 55]\n",
      "输出维度: 4\n",
      "\n",
      "测试输入形状: torch.Size([2, 69])\n",
      "测试输出形状: torch.Size([2, 4])\n"
     ]
    },
    {
     "name": "stderr",
     "output_type": "stream",
     "text": [
      "                                                          \r"
     ]
    },
    {
     "name": "stdout",
     "output_type": "stream",
     "text": [
      "    Epoch 1: Train Loss 0.0274, Acc 48.98%\n"
     ]
    },
    {
     "name": "stderr",
     "output_type": "stream",
     "text": [
      "                                                          \r"
     ]
    },
    {
     "name": "stdout",
     "output_type": "stream",
     "text": [
      "    Epoch 2: Train Loss 0.0265, Acc 69.32%\n"
     ]
    },
    {
     "name": "stderr",
     "output_type": "stream",
     "text": [
      "                                                          \r"
     ]
    },
    {
     "name": "stdout",
     "output_type": "stream",
     "text": [
      "    Epoch 3: Train Loss 0.0137, Acc 82.62%\n"
     ]
    },
    {
     "name": "stderr",
     "output_type": "stream",
     "text": [
      "                                                          \r"
     ]
    },
    {
     "name": "stdout",
     "output_type": "stream",
     "text": [
      "    Epoch 4: Train Loss 0.0193, Acc 86.14%\n"
     ]
    },
    {
     "name": "stderr",
     "output_type": "stream",
     "text": [
      "                                                          \r"
     ]
    },
    {
     "name": "stdout",
     "output_type": "stream",
     "text": [
      "    Epoch 5: Train Loss 0.0130, Acc 88.35%\n"
     ]
    },
    {
     "name": "stderr",
     "output_type": "stream",
     "text": [
      "                                                          \r"
     ]
    },
    {
     "name": "stdout",
     "output_type": "stream",
     "text": [
      "    Epoch 6: Train Loss 0.0122, Acc 89.28%\n"
     ]
    },
    {
     "name": "stderr",
     "output_type": "stream",
     "text": [
      "                                                           \r"
     ]
    },
    {
     "name": "stdout",
     "output_type": "stream",
     "text": [
      "    Val F1: 0.9266\n",
      "  Fold 5/5\n",
      "\n",
      "=== 模型结构验证 ===\n",
      "输入维度: 69\n",
      "隐藏层维度: [163, 78, 55]\n",
      "输出维度: 4\n",
      "\n",
      "测试输入形状: torch.Size([2, 69])\n",
      "测试输出形状: torch.Size([2, 4])\n"
     ]
    },
    {
     "name": "stderr",
     "output_type": "stream",
     "text": [
      "                                                          \r"
     ]
    },
    {
     "name": "stdout",
     "output_type": "stream",
     "text": [
      "    Epoch 1: Train Loss 0.0342, Acc 57.86%\n"
     ]
    },
    {
     "name": "stderr",
     "output_type": "stream",
     "text": [
      "                                                          \r"
     ]
    },
    {
     "name": "stdout",
     "output_type": "stream",
     "text": [
      "    Epoch 2: Train Loss 0.0153, Acc 78.93%\n"
     ]
    },
    {
     "name": "stderr",
     "output_type": "stream",
     "text": [
      "                                                          \r"
     ]
    },
    {
     "name": "stdout",
     "output_type": "stream",
     "text": [
      "    Epoch 3: Train Loss 0.0119, Acc 86.51%\n"
     ]
    },
    {
     "name": "stderr",
     "output_type": "stream",
     "text": [
      "                                                          \r"
     ]
    },
    {
     "name": "stdout",
     "output_type": "stream",
     "text": [
      "    Epoch 4: Train Loss 0.0038, Acc 88.91%\n"
     ]
    },
    {
     "name": "stderr",
     "output_type": "stream",
     "text": [
      "                                                          \r"
     ]
    },
    {
     "name": "stdout",
     "output_type": "stream",
     "text": [
      "    Epoch 5: Train Loss 0.0172, Acc 90.20%\n"
     ]
    },
    {
     "name": "stderr",
     "output_type": "stream",
     "text": [
      "                                                          \r"
     ]
    },
    {
     "name": "stdout",
     "output_type": "stream",
     "text": [
      "    Epoch 6: Train Loss 0.0085, Acc 89.83%\n"
     ]
    },
    {
     "name": "stderr",
     "output_type": "stream",
     "text": [
      "                                                           \r"
     ]
    },
    {
     "name": "stdout",
     "output_type": "stream",
     "text": [
      "    Val F1: 0.9353\n",
      "New best params found with F1: 0.9269\n",
      "\n",
      "Iteration 2/10: Testing params {'lr': 0.0005548197592930261, 'batch_size': 16.424575514941818, 'hidden_dim1': 153.451219287891, 'hidden_dim2': 105.59260401788949, 'hidden_dim3': 49.438127379302934, 'dropout': 0.12204406220406967, 'scaling_factor': 6.30339115488318e-05, 'prior_sigma1': 0.9047152283389133, 'prior_sigma2': 0.010584888371025492, 'prior_pi': 0.451454812958202, 'epochs_per_fold': 8.490696974941134}\n",
      "  Fold 1/5\n",
      "\n",
      "=== 模型结构验证 ===\n",
      "输入维度: 69\n",
      "隐藏层维度: [153, 105, 49]\n",
      "输出维度: 4\n",
      "\n",
      "测试输入形状: torch.Size([2, 69])\n",
      "测试输出形状: torch.Size([2, 4])\n"
     ]
    },
    {
     "name": "stderr",
     "output_type": "stream",
     "text": [
      "                                                          \r"
     ]
    },
    {
     "name": "stdout",
     "output_type": "stream",
     "text": [
      "    Epoch 1: Train Loss 0.0358, Acc 46.85%\n"
     ]
    },
    {
     "name": "stderr",
     "output_type": "stream",
     "text": [
      "                                                          \r"
     ]
    },
    {
     "name": "stdout",
     "output_type": "stream",
     "text": [
      "    Epoch 2: Train Loss 0.0196, Acc 77.22%\n"
     ]
    },
    {
     "name": "stderr",
     "output_type": "stream",
     "text": [
      "                                                          \r"
     ]
    },
    {
     "name": "stdout",
     "output_type": "stream",
     "text": [
      "    Epoch 3: Train Loss 0.0167, Acc 83.70%\n"
     ]
    },
    {
     "name": "stderr",
     "output_type": "stream",
     "text": [
      "                                                          \r"
     ]
    },
    {
     "name": "stdout",
     "output_type": "stream",
     "text": [
      "    Epoch 4: Train Loss 0.0119, Acc 87.41%\n"
     ]
    },
    {
     "name": "stderr",
     "output_type": "stream",
     "text": [
      "                                                          \r"
     ]
    },
    {
     "name": "stdout",
     "output_type": "stream",
     "text": [
      "    Epoch 5: Train Loss 0.0107, Acc 89.63%\n"
     ]
    },
    {
     "name": "stderr",
     "output_type": "stream",
     "text": [
      "                                                          \r"
     ]
    },
    {
     "name": "stdout",
     "output_type": "stream",
     "text": [
      "    Epoch 6: Train Loss 0.0048, Acc 91.67%\n"
     ]
    },
    {
     "name": "stderr",
     "output_type": "stream",
     "text": [
      "                                                          \r"
     ]
    },
    {
     "name": "stdout",
     "output_type": "stream",
     "text": [
      "    Epoch 7: Train Loss 0.0066, Acc 93.52%\n"
     ]
    },
    {
     "name": "stderr",
     "output_type": "stream",
     "text": [
      "                                                          \r"
     ]
    },
    {
     "name": "stdout",
     "output_type": "stream",
     "text": [
      "    Epoch 8: Train Loss 0.0028, Acc 94.44%\n"
     ]
    },
    {
     "name": "stderr",
     "output_type": "stream",
     "text": [
      "                                                           \r"
     ]
    },
    {
     "name": "stdout",
     "output_type": "stream",
     "text": [
      "    Val F1: 0.9258\n",
      "  Fold 2/5\n",
      "\n",
      "=== 模型结构验证 ===\n",
      "输入维度: 69\n",
      "隐藏层维度: [153, 105, 49]\n",
      "输出维度: 4\n",
      "\n",
      "测试输入形状: torch.Size([2, 69])\n",
      "测试输出形状: torch.Size([2, 4])\n"
     ]
    },
    {
     "name": "stderr",
     "output_type": "stream",
     "text": [
      "                                                          \r"
     ]
    },
    {
     "name": "stdout",
     "output_type": "stream",
     "text": [
      "    Epoch 1: Train Loss 0.0332, Acc 50.46%\n"
     ]
    },
    {
     "name": "stderr",
     "output_type": "stream",
     "text": [
      "                                                          \r"
     ]
    },
    {
     "name": "stdout",
     "output_type": "stream",
     "text": [
      "    Epoch 2: Train Loss 0.0141, Acc 78.93%\n"
     ]
    },
    {
     "name": "stderr",
     "output_type": "stream",
     "text": [
      "                                                          \r"
     ]
    },
    {
     "name": "stdout",
     "output_type": "stream",
     "text": [
      "    Epoch 3: Train Loss 0.0127, Acc 82.81%\n"
     ]
    },
    {
     "name": "stderr",
     "output_type": "stream",
     "text": [
      "                                                          \r"
     ]
    },
    {
     "name": "stdout",
     "output_type": "stream",
     "text": [
      "    Epoch 4: Train Loss 0.0043, Acc 87.25%\n"
     ]
    },
    {
     "name": "stderr",
     "output_type": "stream",
     "text": [
      "                                                          \r"
     ]
    },
    {
     "name": "stdout",
     "output_type": "stream",
     "text": [
      "    Epoch 5: Train Loss 0.0077, Acc 88.72%\n"
     ]
    },
    {
     "name": "stderr",
     "output_type": "stream",
     "text": [
      "                                                          \r"
     ]
    },
    {
     "name": "stdout",
     "output_type": "stream",
     "text": [
      "    Epoch 6: Train Loss 0.0063, Acc 90.94%\n"
     ]
    },
    {
     "name": "stderr",
     "output_type": "stream",
     "text": [
      "                                                          \r"
     ]
    },
    {
     "name": "stdout",
     "output_type": "stream",
     "text": [
      "    Epoch 7: Train Loss 0.0156, Acc 92.98%\n"
     ]
    },
    {
     "name": "stderr",
     "output_type": "stream",
     "text": [
      "                                                          \r"
     ]
    },
    {
     "name": "stdout",
     "output_type": "stream",
     "text": [
      "    Epoch 8: Train Loss 0.0052, Acc 94.27%\n"
     ]
    },
    {
     "name": "stderr",
     "output_type": "stream",
     "text": [
      "                                                           \r"
     ]
    },
    {
     "name": "stdout",
     "output_type": "stream",
     "text": [
      "    Val F1: 0.9358\n",
      "  Fold 3/5\n",
      "\n",
      "=== 模型结构验证 ===\n",
      "输入维度: 69\n",
      "隐藏层维度: [153, 105, 49]\n",
      "输出维度: 4\n",
      "\n",
      "测试输入形状: torch.Size([2, 69])\n",
      "测试输出形状: torch.Size([2, 4])\n"
     ]
    },
    {
     "name": "stderr",
     "output_type": "stream",
     "text": [
      "                                                          \r"
     ]
    },
    {
     "name": "stdout",
     "output_type": "stream",
     "text": [
      "    Epoch 1: Train Loss 0.0300, Acc 46.21%\n"
     ]
    },
    {
     "name": "stderr",
     "output_type": "stream",
     "text": [
      "                                                          \r"
     ]
    },
    {
     "name": "stdout",
     "output_type": "stream",
     "text": [
      "    Epoch 2: Train Loss 0.0243, Acc 74.68%\n"
     ]
    },
    {
     "name": "stderr",
     "output_type": "stream",
     "text": [
      "                                                          \r"
     ]
    },
    {
     "name": "stdout",
     "output_type": "stream",
     "text": [
      "    Epoch 3: Train Loss 0.0095, Acc 82.62%\n"
     ]
    },
    {
     "name": "stderr",
     "output_type": "stream",
     "text": [
      "                                                          \r"
     ]
    },
    {
     "name": "stdout",
     "output_type": "stream",
     "text": [
      "    Epoch 4: Train Loss 0.0095, Acc 87.99%\n"
     ]
    },
    {
     "name": "stderr",
     "output_type": "stream",
     "text": [
      "                                                          \r"
     ]
    },
    {
     "name": "stdout",
     "output_type": "stream",
     "text": [
      "    Epoch 5: Train Loss 0.0129, Acc 91.13%\n"
     ]
    },
    {
     "name": "stderr",
     "output_type": "stream",
     "text": [
      "                                                          \r"
     ]
    },
    {
     "name": "stdout",
     "output_type": "stream",
     "text": [
      "    Epoch 6: Train Loss 0.0071, Acc 90.76%\n"
     ]
    },
    {
     "name": "stderr",
     "output_type": "stream",
     "text": [
      "                                                          \r"
     ]
    },
    {
     "name": "stdout",
     "output_type": "stream",
     "text": [
      "    Epoch 7: Train Loss 0.0056, Acc 92.24%\n"
     ]
    },
    {
     "name": "stderr",
     "output_type": "stream",
     "text": [
      "                                                          \r"
     ]
    },
    {
     "name": "stdout",
     "output_type": "stream",
     "text": [
      "    Epoch 8: Train Loss 0.0143, Acc 94.45%\n"
     ]
    },
    {
     "name": "stderr",
     "output_type": "stream",
     "text": [
      "                                                           \r"
     ]
    },
    {
     "name": "stdout",
     "output_type": "stream",
     "text": [
      "    Val F1: 0.9356\n",
      "  Fold 4/5\n",
      "\n",
      "=== 模型结构验证 ===\n",
      "输入维度: 69\n",
      "隐藏层维度: [153, 105, 49]\n",
      "输出维度: 4\n",
      "\n",
      "测试输入形状: torch.Size([2, 69])\n",
      "测试输出形状: torch.Size([2, 4])\n"
     ]
    },
    {
     "name": "stderr",
     "output_type": "stream",
     "text": [
      "                                                          \r"
     ]
    },
    {
     "name": "stdout",
     "output_type": "stream",
     "text": [
      "    Epoch 1: Train Loss 0.0287, Acc 46.40%\n"
     ]
    },
    {
     "name": "stderr",
     "output_type": "stream",
     "text": [
      "                                                          \r"
     ]
    },
    {
     "name": "stdout",
     "output_type": "stream",
     "text": [
      "    Epoch 2: Train Loss 0.0226, Acc 72.83%\n"
     ]
    },
    {
     "name": "stderr",
     "output_type": "stream",
     "text": [
      "                                                          \r"
     ]
    },
    {
     "name": "stdout",
     "output_type": "stream",
     "text": [
      "    Epoch 3: Train Loss 0.0206, Acc 82.62%\n"
     ]
    },
    {
     "name": "stderr",
     "output_type": "stream",
     "text": [
      "                                                          \r"
     ]
    },
    {
     "name": "stdout",
     "output_type": "stream",
     "text": [
      "    Epoch 4: Train Loss 0.0144, Acc 87.25%\n"
     ]
    },
    {
     "name": "stderr",
     "output_type": "stream",
     "text": [
      "                                                          \r"
     ]
    },
    {
     "name": "stdout",
     "output_type": "stream",
     "text": [
      "    Epoch 5: Train Loss 0.0124, Acc 88.35%\n"
     ]
    },
    {
     "name": "stderr",
     "output_type": "stream",
     "text": [
      "                                                          \r"
     ]
    },
    {
     "name": "stdout",
     "output_type": "stream",
     "text": [
      "    Epoch 6: Train Loss 0.0096, Acc 91.68%\n"
     ]
    },
    {
     "name": "stderr",
     "output_type": "stream",
     "text": [
      "                                                          \r"
     ]
    },
    {
     "name": "stdout",
     "output_type": "stream",
     "text": [
      "    Epoch 7: Train Loss 0.0040, Acc 92.61%\n"
     ]
    },
    {
     "name": "stderr",
     "output_type": "stream",
     "text": [
      "                                                          \r"
     ]
    },
    {
     "name": "stdout",
     "output_type": "stream",
     "text": [
      "    Epoch 8: Train Loss 0.0098, Acc 92.42%\n"
     ]
    },
    {
     "name": "stderr",
     "output_type": "stream",
     "text": [
      "                                                           \r"
     ]
    },
    {
     "name": "stdout",
     "output_type": "stream",
     "text": [
      "    Val F1: 0.9644\n",
      "  Fold 5/5\n",
      "\n",
      "=== 模型结构验证 ===\n",
      "输入维度: 69\n",
      "隐藏层维度: [153, 105, 49]\n",
      "输出维度: 4\n",
      "\n",
      "测试输入形状: torch.Size([2, 69])\n",
      "测试输出形状: torch.Size([2, 4])\n"
     ]
    },
    {
     "name": "stderr",
     "output_type": "stream",
     "text": [
      "                                                          \r"
     ]
    },
    {
     "name": "stdout",
     "output_type": "stream",
     "text": [
      "    Epoch 1: Train Loss 0.0303, Acc 46.77%\n"
     ]
    },
    {
     "name": "stderr",
     "output_type": "stream",
     "text": [
      "                                                          \r"
     ]
    },
    {
     "name": "stdout",
     "output_type": "stream",
     "text": [
      "    Epoch 2: Train Loss 0.0205, Acc 73.01%\n"
     ]
    },
    {
     "name": "stderr",
     "output_type": "stream",
     "text": [
      "                                                          \r"
     ]
    },
    {
     "name": "stdout",
     "output_type": "stream",
     "text": [
      "    Epoch 3: Train Loss 0.0129, Acc 81.70%\n"
     ]
    },
    {
     "name": "stderr",
     "output_type": "stream",
     "text": [
      "                                                          \r"
     ]
    },
    {
     "name": "stdout",
     "output_type": "stream",
     "text": [
      "    Epoch 4: Train Loss 0.0088, Acc 84.66%\n"
     ]
    },
    {
     "name": "stderr",
     "output_type": "stream",
     "text": [
      "                                                          \r"
     ]
    },
    {
     "name": "stdout",
     "output_type": "stream",
     "text": [
      "    Epoch 5: Train Loss 0.0090, Acc 89.28%\n"
     ]
    },
    {
     "name": "stderr",
     "output_type": "stream",
     "text": [
      "                                                          \r"
     ]
    },
    {
     "name": "stdout",
     "output_type": "stream",
     "text": [
      "    Epoch 6: Train Loss 0.0075, Acc 90.57%\n"
     ]
    },
    {
     "name": "stderr",
     "output_type": "stream",
     "text": [
      "                                                          \r"
     ]
    },
    {
     "name": "stdout",
     "output_type": "stream",
     "text": [
      "    Epoch 7: Train Loss 0.0101, Acc 91.68%\n"
     ]
    },
    {
     "name": "stderr",
     "output_type": "stream",
     "text": [
      "                                                          \r"
     ]
    },
    {
     "name": "stdout",
     "output_type": "stream",
     "text": [
      "    Epoch 8: Train Loss 0.0081, Acc 91.50%\n"
     ]
    },
    {
     "name": "stderr",
     "output_type": "stream",
     "text": [
      "                                                           \r"
     ]
    },
    {
     "name": "stdout",
     "output_type": "stream",
     "text": [
      "    Val F1: 0.9362\n",
      "New best params found with F1: 0.9396\n",
      "\n",
      "Iteration 3/10: Testing params {'lr': 0.00040622546486619265, 'batch_size': 18.487671996988503, 'hidden_dim1': 250.523273242468, 'hidden_dim2': 85.54205088720812, 'hidden_dim3': 34.96786698816473, 'dropout': 0.10967163768334641, 'scaling_factor': 8.627449297127138e-05, 'prior_sigma1': 0.8018630156834455, 'prior_sigma2': 0.08264154459469422, 'prior_pi': 0.43243294667345444, 'epochs_per_fold': 7.681140457273504}\n",
      "  Fold 1/5\n",
      "\n",
      "=== 模型结构验证 ===\n",
      "输入维度: 69\n",
      "隐藏层维度: [250, 85, 34]\n",
      "输出维度: 4\n",
      "\n",
      "测试输入形状: torch.Size([2, 69])\n",
      "测试输出形状: torch.Size([2, 4])\n"
     ]
    },
    {
     "name": "stderr",
     "output_type": "stream",
     "text": [
      "                                                          \r"
     ]
    },
    {
     "name": "stdout",
     "output_type": "stream",
     "text": [
      "    Epoch 1: Train Loss 0.0376, Acc 44.07%\n"
     ]
    },
    {
     "name": "stderr",
     "output_type": "stream",
     "text": [
      "                                                          \r"
     ]
    },
    {
     "name": "stdout",
     "output_type": "stream",
     "text": [
      "    Epoch 2: Train Loss 0.0312, Acc 67.59%\n"
     ]
    },
    {
     "name": "stderr",
     "output_type": "stream",
     "text": [
      "                                                          \r"
     ]
    },
    {
     "name": "stdout",
     "output_type": "stream",
     "text": [
      "    Epoch 3: Train Loss 0.0229, Acc 78.33%\n"
     ]
    },
    {
     "name": "stderr",
     "output_type": "stream",
     "text": [
      "                                                          \r"
     ]
    },
    {
     "name": "stdout",
     "output_type": "stream",
     "text": [
      "    Epoch 4: Train Loss 0.0210, Acc 84.44%\n"
     ]
    },
    {
     "name": "stderr",
     "output_type": "stream",
     "text": [
      "                                                          \r"
     ]
    },
    {
     "name": "stdout",
     "output_type": "stream",
     "text": [
      "    Epoch 5: Train Loss 0.0182, Acc 85.37%\n"
     ]
    },
    {
     "name": "stderr",
     "output_type": "stream",
     "text": [
      "                                                          \r"
     ]
    },
    {
     "name": "stdout",
     "output_type": "stream",
     "text": [
      "    Epoch 6: Train Loss 0.0098, Acc 89.07%\n"
     ]
    },
    {
     "name": "stderr",
     "output_type": "stream",
     "text": [
      "                                                          \r"
     ]
    },
    {
     "name": "stdout",
     "output_type": "stream",
     "text": [
      "    Epoch 7: Train Loss 0.0088, Acc 91.48%\n"
     ]
    },
    {
     "name": "stderr",
     "output_type": "stream",
     "text": [
      "                                                           \r"
     ]
    },
    {
     "name": "stdout",
     "output_type": "stream",
     "text": [
      "    Val F1: 0.9175\n",
      "  Fold 2/5\n",
      "\n",
      "=== 模型结构验证 ===\n",
      "输入维度: 69\n",
      "隐藏层维度: [250, 85, 34]\n",
      "输出维度: 4\n",
      "\n",
      "测试输入形状: torch.Size([2, 69])\n",
      "测试输出形状: torch.Size([2, 4])\n"
     ]
    },
    {
     "name": "stderr",
     "output_type": "stream",
     "text": [
      "                                                          \r"
     ]
    },
    {
     "name": "stdout",
     "output_type": "stream",
     "text": [
      "    Epoch 1: Train Loss 0.0469, Acc 45.47%\n"
     ]
    },
    {
     "name": "stderr",
     "output_type": "stream",
     "text": [
      "                                                          \r"
     ]
    },
    {
     "name": "stdout",
     "output_type": "stream",
     "text": [
      "    Epoch 2: Train Loss 0.0395, Acc 73.20%\n"
     ]
    },
    {
     "name": "stderr",
     "output_type": "stream",
     "text": [
      "                                                          \r"
     ]
    },
    {
     "name": "stdout",
     "output_type": "stream",
     "text": [
      "    Epoch 3: Train Loss 0.0246, Acc 78.93%\n"
     ]
    },
    {
     "name": "stderr",
     "output_type": "stream",
     "text": [
      "                                                          \r"
     ]
    },
    {
     "name": "stdout",
     "output_type": "stream",
     "text": [
      "    Epoch 4: Train Loss 0.0389, Acc 85.95%\n"
     ]
    },
    {
     "name": "stderr",
     "output_type": "stream",
     "text": [
      "                                                          \r"
     ]
    },
    {
     "name": "stdout",
     "output_type": "stream",
     "text": [
      "    Epoch 5: Train Loss 0.0046, Acc 88.17%\n"
     ]
    },
    {
     "name": "stderr",
     "output_type": "stream",
     "text": [
      "                                                          \r"
     ]
    },
    {
     "name": "stdout",
     "output_type": "stream",
     "text": [
      "    Epoch 6: Train Loss 0.0029, Acc 89.09%\n"
     ]
    },
    {
     "name": "stderr",
     "output_type": "stream",
     "text": [
      "                                                          \r"
     ]
    },
    {
     "name": "stdout",
     "output_type": "stream",
     "text": [
      "    Epoch 7: Train Loss 0.0033, Acc 89.65%\n"
     ]
    },
    {
     "name": "stderr",
     "output_type": "stream",
     "text": [
      "                                                           \r"
     ]
    },
    {
     "name": "stdout",
     "output_type": "stream",
     "text": [
      "    Val F1: 0.9206\n",
      "  Fold 3/5\n",
      "\n",
      "=== 模型结构验证 ===\n",
      "输入维度: 69\n",
      "隐藏层维度: [250, 85, 34]\n",
      "输出维度: 4\n",
      "\n",
      "测试输入形状: torch.Size([2, 69])\n",
      "测试输出形状: torch.Size([2, 4])\n"
     ]
    },
    {
     "name": "stderr",
     "output_type": "stream",
     "text": [
      "                                                          \r"
     ]
    },
    {
     "name": "stdout",
     "output_type": "stream",
     "text": [
      "    Epoch 1: Train Loss 0.0427, Acc 41.22%\n"
     ]
    },
    {
     "name": "stderr",
     "output_type": "stream",
     "text": [
      "                                                          \r"
     ]
    },
    {
     "name": "stdout",
     "output_type": "stream",
     "text": [
      "    Epoch 2: Train Loss 0.0171, Acc 70.61%\n"
     ]
    },
    {
     "name": "stderr",
     "output_type": "stream",
     "text": [
      "                                                          \r"
     ]
    },
    {
     "name": "stdout",
     "output_type": "stream",
     "text": [
      "    Epoch 3: Train Loss 0.0087, Acc 81.15%\n"
     ]
    },
    {
     "name": "stderr",
     "output_type": "stream",
     "text": [
      "                                                          \r"
     ]
    },
    {
     "name": "stdout",
     "output_type": "stream",
     "text": [
      "    Epoch 4: Train Loss 0.0231, Acc 82.99%\n"
     ]
    },
    {
     "name": "stderr",
     "output_type": "stream",
     "text": [
      "                                                          \r"
     ]
    },
    {
     "name": "stdout",
     "output_type": "stream",
     "text": [
      "    Epoch 5: Train Loss 0.0126, Acc 85.58%\n"
     ]
    },
    {
     "name": "stderr",
     "output_type": "stream",
     "text": [
      "                                                          \r"
     ]
    },
    {
     "name": "stdout",
     "output_type": "stream",
     "text": [
      "    Epoch 6: Train Loss 0.0170, Acc 89.28%\n"
     ]
    },
    {
     "name": "stderr",
     "output_type": "stream",
     "text": [
      "                                                          \r"
     ]
    },
    {
     "name": "stdout",
     "output_type": "stream",
     "text": [
      "    Epoch 7: Train Loss 0.0051, Acc 90.02%\n"
     ]
    },
    {
     "name": "stderr",
     "output_type": "stream",
     "text": [
      "                                                           \r"
     ]
    },
    {
     "name": "stdout",
     "output_type": "stream",
     "text": [
      "    Val F1: 0.8713\n",
      "  Fold 4/5\n",
      "\n",
      "=== 模型结构验证 ===\n",
      "输入维度: 69\n",
      "隐藏层维度: [250, 85, 34]\n",
      "输出维度: 4\n",
      "\n",
      "测试输入形状: torch.Size([2, 69])\n",
      "测试输出形状: torch.Size([2, 4])\n"
     ]
    },
    {
     "name": "stderr",
     "output_type": "stream",
     "text": [
      "                                                          \r"
     ]
    },
    {
     "name": "stdout",
     "output_type": "stream",
     "text": [
      "    Epoch 1: Train Loss 0.0301, Acc 45.10%\n"
     ]
    },
    {
     "name": "stderr",
     "output_type": "stream",
     "text": [
      "                                                          \r"
     ]
    },
    {
     "name": "stdout",
     "output_type": "stream",
     "text": [
      "    Epoch 2: Train Loss 0.0396, Acc 67.47%\n"
     ]
    },
    {
     "name": "stderr",
     "output_type": "stream",
     "text": [
      "                                                          \r"
     ]
    },
    {
     "name": "stdout",
     "output_type": "stream",
     "text": [
      "    Epoch 3: Train Loss 0.0340, Acc 77.45%\n"
     ]
    },
    {
     "name": "stderr",
     "output_type": "stream",
     "text": [
      "                                                          \r"
     ]
    },
    {
     "name": "stdout",
     "output_type": "stream",
     "text": [
      "    Epoch 4: Train Loss 0.0027, Acc 82.44%\n"
     ]
    },
    {
     "name": "stderr",
     "output_type": "stream",
     "text": [
      "                                                          \r"
     ]
    },
    {
     "name": "stdout",
     "output_type": "stream",
     "text": [
      "    Epoch 5: Train Loss 0.0069, Acc 87.06%\n"
     ]
    },
    {
     "name": "stderr",
     "output_type": "stream",
     "text": [
      "                                                          \r"
     ]
    },
    {
     "name": "stdout",
     "output_type": "stream",
     "text": [
      "    Epoch 6: Train Loss 0.0024, Acc 86.32%\n"
     ]
    },
    {
     "name": "stderr",
     "output_type": "stream",
     "text": [
      "                                                          \r"
     ]
    },
    {
     "name": "stdout",
     "output_type": "stream",
     "text": [
      "    Epoch 7: Train Loss 0.0080, Acc 88.72%\n"
     ]
    },
    {
     "name": "stderr",
     "output_type": "stream",
     "text": [
      "                                                           \r"
     ]
    },
    {
     "name": "stdout",
     "output_type": "stream",
     "text": [
      "    Val F1: 0.9250\n",
      "  Fold 5/5\n",
      "\n",
      "=== 模型结构验证 ===\n",
      "输入维度: 69\n",
      "隐藏层维度: [250, 85, 34]\n",
      "输出维度: 4\n",
      "\n",
      "测试输入形状: torch.Size([2, 69])\n",
      "测试输出形状: torch.Size([2, 4])\n"
     ]
    },
    {
     "name": "stderr",
     "output_type": "stream",
     "text": [
      "                                                          \r"
     ]
    },
    {
     "name": "stdout",
     "output_type": "stream",
     "text": [
      "    Epoch 1: Train Loss 0.0393, Acc 47.13%\n"
     ]
    },
    {
     "name": "stderr",
     "output_type": "stream",
     "text": [
      "                                                          \r"
     ]
    },
    {
     "name": "stdout",
     "output_type": "stream",
     "text": [
      "    Epoch 2: Train Loss 0.0175, Acc 72.83%\n"
     ]
    },
    {
     "name": "stderr",
     "output_type": "stream",
     "text": [
      "                                                          \r"
     ]
    },
    {
     "name": "stdout",
     "output_type": "stream",
     "text": [
      "    Epoch 3: Train Loss 0.0393, Acc 80.04%\n"
     ]
    },
    {
     "name": "stderr",
     "output_type": "stream",
     "text": [
      "                                                          \r"
     ]
    },
    {
     "name": "stdout",
     "output_type": "stream",
     "text": [
      "    Epoch 4: Train Loss 0.0042, Acc 85.40%\n"
     ]
    },
    {
     "name": "stderr",
     "output_type": "stream",
     "text": [
      "                                                          \r"
     ]
    },
    {
     "name": "stdout",
     "output_type": "stream",
     "text": [
      "    Epoch 5: Train Loss 0.0167, Acc 87.62%\n"
     ]
    },
    {
     "name": "stderr",
     "output_type": "stream",
     "text": [
      "                                                          \r"
     ]
    },
    {
     "name": "stdout",
     "output_type": "stream",
     "text": [
      "    Epoch 6: Train Loss 0.0065, Acc 89.09%\n"
     ]
    },
    {
     "name": "stderr",
     "output_type": "stream",
     "text": [
      "                                                          \r"
     ]
    },
    {
     "name": "stdout",
     "output_type": "stream",
     "text": [
      "    Epoch 7: Train Loss 0.0040, Acc 92.61%\n"
     ]
    },
    {
     "name": "stderr",
     "output_type": "stream",
     "text": [
      "                                                           \r"
     ]
    },
    {
     "name": "stdout",
     "output_type": "stream",
     "text": [
      "    Val F1: 0.8983\n",
      "\n",
      "Iteration 4/10: Testing params {'lr': 0.0009758041875814336, 'batch_size': 22.056550035333657, 'hidden_dim1': 198.66120080297304, 'hidden_dim2': 117.08189851219167, 'hidden_dim3': 51.792632075655874, 'dropout': 0.18617069003107772, 'scaling_factor': 6.196169307310859e-05, 'prior_sigma1': 0.8522859181074618, 'prior_sigma2': 0.0141241945290096, 'prior_pi': 0.3069745689128867, 'epochs_per_fold': 6.446939818010536}\n",
      "  Fold 1/5\n",
      "\n",
      "=== 模型结构验证 ===\n",
      "输入维度: 69\n",
      "隐藏层维度: [198, 117, 51]\n",
      "输出维度: 4\n",
      "\n",
      "测试输入形状: torch.Size([2, 69])\n",
      "测试输出形状: torch.Size([2, 4])\n"
     ]
    },
    {
     "name": "stderr",
     "output_type": "stream",
     "text": [
      "                                                          \r"
     ]
    },
    {
     "name": "stdout",
     "output_type": "stream",
     "text": [
      "    Epoch 1: Train Loss 0.0429, Acc 45.93%\n"
     ]
    },
    {
     "name": "stderr",
     "output_type": "stream",
     "text": [
      "                                                          \r"
     ]
    },
    {
     "name": "stdout",
     "output_type": "stream",
     "text": [
      "    Epoch 2: Train Loss 0.0235, Acc 77.59%\n"
     ]
    },
    {
     "name": "stderr",
     "output_type": "stream",
     "text": [
      "                                                          \r"
     ]
    },
    {
     "name": "stdout",
     "output_type": "stream",
     "text": [
      "    Epoch 3: Train Loss 0.0075, Acc 82.96%\n"
     ]
    },
    {
     "name": "stderr",
     "output_type": "stream",
     "text": [
      "                                                          \r"
     ]
    },
    {
     "name": "stdout",
     "output_type": "stream",
     "text": [
      "    Epoch 4: Train Loss 0.0171, Acc 89.26%\n"
     ]
    },
    {
     "name": "stderr",
     "output_type": "stream",
     "text": [
      "                                                          \r"
     ]
    },
    {
     "name": "stdout",
     "output_type": "stream",
     "text": [
      "    Epoch 5: Train Loss 0.0203, Acc 90.93%\n"
     ]
    },
    {
     "name": "stderr",
     "output_type": "stream",
     "text": [
      "                                                          \r"
     ]
    },
    {
     "name": "stdout",
     "output_type": "stream",
     "text": [
      "    Epoch 6: Train Loss 0.0133, Acc 89.44%\n"
     ]
    },
    {
     "name": "stderr",
     "output_type": "stream",
     "text": [
      "                                                           \r"
     ]
    },
    {
     "name": "stdout",
     "output_type": "stream",
     "text": [
      "    Val F1: 0.9098\n",
      "  Fold 2/5\n",
      "\n",
      "=== 模型结构验证 ===\n",
      "输入维度: 69\n",
      "隐藏层维度: [198, 117, 51]\n",
      "输出维度: 4\n",
      "\n",
      "测试输入形状: torch.Size([2, 69])\n",
      "测试输出形状: torch.Size([2, 4])\n"
     ]
    },
    {
     "name": "stderr",
     "output_type": "stream",
     "text": [
      "                                                         \r"
     ]
    },
    {
     "name": "stdout",
     "output_type": "stream",
     "text": [
      "    Epoch 1: Train Loss 0.0408, Acc 51.39%\n"
     ]
    },
    {
     "name": "stderr",
     "output_type": "stream",
     "text": [
      "                                                         \r"
     ]
    },
    {
     "name": "stdout",
     "output_type": "stream",
     "text": [
      "    Epoch 2: Train Loss 0.0350, Acc 75.97%\n"
     ]
    },
    {
     "name": "stderr",
     "output_type": "stream",
     "text": [
      "                                                         \r"
     ]
    },
    {
     "name": "stdout",
     "output_type": "stream",
     "text": [
      "    Epoch 3: Train Loss 0.0161, Acc 85.77%\n"
     ]
    },
    {
     "name": "stderr",
     "output_type": "stream",
     "text": [
      "                                                         \r"
     ]
    },
    {
     "name": "stdout",
     "output_type": "stream",
     "text": [
      "    Epoch 4: Train Loss 0.0246, Acc 89.83%\n"
     ]
    },
    {
     "name": "stderr",
     "output_type": "stream",
     "text": [
      "                                                         \r"
     ]
    },
    {
     "name": "stdout",
     "output_type": "stream",
     "text": [
      "    Epoch 5: Train Loss 0.0220, Acc 90.94%\n"
     ]
    },
    {
     "name": "stderr",
     "output_type": "stream",
     "text": [
      "                                                         \r"
     ]
    },
    {
     "name": "stdout",
     "output_type": "stream",
     "text": [
      "    Epoch 6: Train Loss 0.0239, Acc 92.98%\n"
     ]
    },
    {
     "name": "stderr",
     "output_type": "stream",
     "text": [
      "                                                           \r"
     ]
    },
    {
     "name": "stdout",
     "output_type": "stream",
     "text": [
      "    Val F1: 0.9292\n",
      "  Fold 3/5\n",
      "\n",
      "=== 模型结构验证 ===\n",
      "输入维度: 69\n",
      "隐藏层维度: [198, 117, 51]\n",
      "输出维度: 4\n",
      "\n",
      "测试输入形状: torch.Size([2, 69])\n",
      "测试输出形状: torch.Size([2, 4])\n"
     ]
    },
    {
     "name": "stderr",
     "output_type": "stream",
     "text": [
      "                                                         \r"
     ]
    },
    {
     "name": "stdout",
     "output_type": "stream",
     "text": [
      "    Epoch 1: Train Loss 0.0331, Acc 52.87%\n"
     ]
    },
    {
     "name": "stderr",
     "output_type": "stream",
     "text": [
      "                                                         \r"
     ]
    },
    {
     "name": "stdout",
     "output_type": "stream",
     "text": [
      "    Epoch 2: Train Loss 0.0184, Acc 77.82%\n"
     ]
    },
    {
     "name": "stderr",
     "output_type": "stream",
     "text": [
      "                                                         \r"
     ]
    },
    {
     "name": "stdout",
     "output_type": "stream",
     "text": [
      "    Epoch 3: Train Loss 0.0207, Acc 85.77%\n"
     ]
    },
    {
     "name": "stderr",
     "output_type": "stream",
     "text": [
      "                                                         \r"
     ]
    },
    {
     "name": "stdout",
     "output_type": "stream",
     "text": [
      "    Epoch 4: Train Loss 0.0124, Acc 88.17%\n"
     ]
    },
    {
     "name": "stderr",
     "output_type": "stream",
     "text": [
      "                                                         \r"
     ]
    },
    {
     "name": "stdout",
     "output_type": "stream",
     "text": [
      "    Epoch 5: Train Loss 0.0093, Acc 90.02%\n"
     ]
    },
    {
     "name": "stderr",
     "output_type": "stream",
     "text": [
      "                                                         \r"
     ]
    },
    {
     "name": "stdout",
     "output_type": "stream",
     "text": [
      "    Epoch 6: Train Loss 0.0071, Acc 92.05%\n"
     ]
    },
    {
     "name": "stderr",
     "output_type": "stream",
     "text": [
      "                                                           \r"
     ]
    },
    {
     "name": "stdout",
     "output_type": "stream",
     "text": [
      "    Val F1: 0.9259\n",
      "  Fold 4/5\n",
      "\n",
      "=== 模型结构验证 ===\n",
      "输入维度: 69\n",
      "隐藏层维度: [198, 117, 51]\n",
      "输出维度: 4\n",
      "\n",
      "测试输入形状: torch.Size([2, 69])\n",
      "测试输出形状: torch.Size([2, 4])\n"
     ]
    },
    {
     "name": "stderr",
     "output_type": "stream",
     "text": [
      "                                                         \r"
     ]
    },
    {
     "name": "stdout",
     "output_type": "stream",
     "text": [
      "    Epoch 1: Train Loss 0.0367, Acc 55.08%\n"
     ]
    },
    {
     "name": "stderr",
     "output_type": "stream",
     "text": [
      "                                                         \r"
     ]
    },
    {
     "name": "stdout",
     "output_type": "stream",
     "text": [
      "    Epoch 2: Train Loss 0.0224, Acc 75.60%\n"
     ]
    },
    {
     "name": "stderr",
     "output_type": "stream",
     "text": [
      "                                                         \r"
     ]
    },
    {
     "name": "stdout",
     "output_type": "stream",
     "text": [
      "    Epoch 3: Train Loss 0.0214, Acc 84.66%\n"
     ]
    },
    {
     "name": "stderr",
     "output_type": "stream",
     "text": [
      "                                                         \r"
     ]
    },
    {
     "name": "stdout",
     "output_type": "stream",
     "text": [
      "    Epoch 4: Train Loss 0.0257, Acc 89.46%\n"
     ]
    },
    {
     "name": "stderr",
     "output_type": "stream",
     "text": [
      "                                                         \r"
     ]
    },
    {
     "name": "stdout",
     "output_type": "stream",
     "text": [
      "    Epoch 5: Train Loss 0.0139, Acc 91.87%\n"
     ]
    },
    {
     "name": "stderr",
     "output_type": "stream",
     "text": [
      "                                                         \r"
     ]
    },
    {
     "name": "stdout",
     "output_type": "stream",
     "text": [
      "    Epoch 6: Train Loss 0.0050, Acc 91.13%\n"
     ]
    },
    {
     "name": "stderr",
     "output_type": "stream",
     "text": [
      "                                                           \r"
     ]
    },
    {
     "name": "stdout",
     "output_type": "stream",
     "text": [
      "    Val F1: 0.9376\n",
      "  Fold 5/5\n",
      "\n",
      "=== 模型结构验证 ===\n",
      "输入维度: 69\n",
      "隐藏层维度: [198, 117, 51]\n",
      "输出维度: 4\n",
      "\n",
      "测试输入形状: torch.Size([2, 69])\n",
      "测试输出形状: torch.Size([2, 4])\n"
     ]
    },
    {
     "name": "stderr",
     "output_type": "stream",
     "text": [
      "                                                         \r"
     ]
    },
    {
     "name": "stdout",
     "output_type": "stream",
     "text": [
      "    Epoch 1: Train Loss 0.0374, Acc 53.97%\n"
     ]
    },
    {
     "name": "stderr",
     "output_type": "stream",
     "text": [
      "                                                         \r"
     ]
    },
    {
     "name": "stdout",
     "output_type": "stream",
     "text": [
      "    Epoch 2: Train Loss 0.0284, Acc 77.63%\n"
     ]
    },
    {
     "name": "stderr",
     "output_type": "stream",
     "text": [
      "                                                         \r"
     ]
    },
    {
     "name": "stdout",
     "output_type": "stream",
     "text": [
      "    Epoch 3: Train Loss 0.0218, Acc 85.58%\n"
     ]
    },
    {
     "name": "stderr",
     "output_type": "stream",
     "text": [
      "                                                         \r"
     ]
    },
    {
     "name": "stdout",
     "output_type": "stream",
     "text": [
      "    Epoch 4: Train Loss 0.0283, Acc 88.17%\n"
     ]
    },
    {
     "name": "stderr",
     "output_type": "stream",
     "text": [
      "                                                          \r"
     ]
    },
    {
     "name": "stdout",
     "output_type": "stream",
     "text": [
      "    Epoch 5: Train Loss 0.0065, Acc 90.39%\n"
     ]
    },
    {
     "name": "stderr",
     "output_type": "stream",
     "text": [
      "                                                         \r"
     ]
    },
    {
     "name": "stdout",
     "output_type": "stream",
     "text": [
      "    Epoch 6: Train Loss 0.0093, Acc 92.05%\n"
     ]
    },
    {
     "name": "stderr",
     "output_type": "stream",
     "text": [
      "                                                           \r"
     ]
    },
    {
     "name": "stdout",
     "output_type": "stream",
     "text": [
      "    Val F1: 0.9061\n",
      "\n",
      "Iteration 5/10: Testing params {'lr': 0.00017181277923126475, 'batch_size': 19.724654181776483, 'hidden_dim1': 140.92818296444534, 'hidden_dim2': 81.7903105990459, 'hidden_dim3': 52.34190221646081, 'dropout': 0.13648321789700843, 'scaling_factor': 4.331628704051944e-05, 'prior_sigma1': 0.6047535153857438, 'prior_sigma2': 0.034028003984420206, 'prior_pi': 0.4841636469281235, 'epochs_per_fold': 8.240176926232968}\n",
      "  Fold 1/5\n",
      "\n",
      "=== 模型结构验证 ===\n",
      "输入维度: 69\n",
      "隐藏层维度: [140, 81, 52]\n",
      "输出维度: 4\n",
      "\n",
      "测试输入形状: torch.Size([2, 69])\n",
      "测试输出形状: torch.Size([2, 4])\n"
     ]
    },
    {
     "name": "stderr",
     "output_type": "stream",
     "text": [
      "                                                         \r"
     ]
    },
    {
     "name": "stdout",
     "output_type": "stream",
     "text": [
      "    Epoch 1: Train Loss 0.0474, Acc 35.93%\n"
     ]
    },
    {
     "name": "stderr",
     "output_type": "stream",
     "text": [
      "                                                         \r"
     ]
    },
    {
     "name": "stdout",
     "output_type": "stream",
     "text": [
      "    Epoch 2: Train Loss 0.0435, Acc 45.93%\n"
     ]
    },
    {
     "name": "stderr",
     "output_type": "stream",
     "text": [
      "                                                         \r"
     ]
    },
    {
     "name": "stdout",
     "output_type": "stream",
     "text": [
      "    Epoch 3: Train Loss 0.0396, Acc 59.81%\n"
     ]
    },
    {
     "name": "stderr",
     "output_type": "stream",
     "text": [
      "                                                         \r"
     ]
    },
    {
     "name": "stdout",
     "output_type": "stream",
     "text": [
      "    Epoch 4: Train Loss 0.0377, Acc 68.33%\n"
     ]
    },
    {
     "name": "stderr",
     "output_type": "stream",
     "text": [
      "                                                         \r"
     ]
    },
    {
     "name": "stdout",
     "output_type": "stream",
     "text": [
      "    Epoch 5: Train Loss 0.0368, Acc 70.19%\n"
     ]
    },
    {
     "name": "stderr",
     "output_type": "stream",
     "text": [
      "                                                         \r"
     ]
    },
    {
     "name": "stdout",
     "output_type": "stream",
     "text": [
      "    Epoch 6: Train Loss 0.0343, Acc 70.19%\n"
     ]
    },
    {
     "name": "stderr",
     "output_type": "stream",
     "text": [
      "                                                         \r"
     ]
    },
    {
     "name": "stdout",
     "output_type": "stream",
     "text": [
      "    Epoch 7: Train Loss 0.0284, Acc 75.19%\n"
     ]
    },
    {
     "name": "stderr",
     "output_type": "stream",
     "text": [
      "                                                         \r"
     ]
    },
    {
     "name": "stdout",
     "output_type": "stream",
     "text": [
      "    Epoch 8: Train Loss 0.0139, Acc 78.52%\n"
     ]
    },
    {
     "name": "stderr",
     "output_type": "stream",
     "text": [
      "                                                           \r"
     ]
    },
    {
     "name": "stdout",
     "output_type": "stream",
     "text": [
      "    Val F1: 0.8171\n",
      "  Fold 2/5\n",
      "\n",
      "=== 模型结构验证 ===\n",
      "输入维度: 69\n",
      "隐藏层维度: [140, 81, 52]\n",
      "输出维度: 4\n",
      "\n",
      "测试输入形状: torch.Size([2, 69])\n",
      "测试输出形状: torch.Size([2, 4])\n"
     ]
    },
    {
     "name": "stderr",
     "output_type": "stream",
     "text": [
      "                                                         \r"
     ]
    },
    {
     "name": "stdout",
     "output_type": "stream",
     "text": [
      "    Epoch 1: Train Loss 0.0441, Acc 33.09%\n"
     ]
    },
    {
     "name": "stderr",
     "output_type": "stream",
     "text": [
      "                                                         \r"
     ]
    },
    {
     "name": "stdout",
     "output_type": "stream",
     "text": [
      "    Epoch 2: Train Loss 0.0422, Acc 41.22%\n"
     ]
    },
    {
     "name": "stderr",
     "output_type": "stream",
     "text": [
      "                                                         \r"
     ]
    },
    {
     "name": "stdout",
     "output_type": "stream",
     "text": [
      "    Epoch 3: Train Loss 0.0422, Acc 45.66%\n"
     ]
    },
    {
     "name": "stderr",
     "output_type": "stream",
     "text": [
      "                                                         \r"
     ]
    },
    {
     "name": "stdout",
     "output_type": "stream",
     "text": [
      "    Epoch 4: Train Loss 0.0419, Acc 51.02%\n"
     ]
    },
    {
     "name": "stderr",
     "output_type": "stream",
     "text": [
      "                                                         \r"
     ]
    },
    {
     "name": "stdout",
     "output_type": "stream",
     "text": [
      "    Epoch 5: Train Loss 0.0270, Acc 59.15%\n"
     ]
    },
    {
     "name": "stderr",
     "output_type": "stream",
     "text": [
      "                                                          \r"
     ]
    },
    {
     "name": "stdout",
     "output_type": "stream",
     "text": [
      "    Epoch 6: Train Loss 0.0239, Acc 67.47%\n"
     ]
    },
    {
     "name": "stderr",
     "output_type": "stream",
     "text": [
      "                                                         \r"
     ]
    },
    {
     "name": "stdout",
     "output_type": "stream",
     "text": [
      "    Epoch 7: Train Loss 0.0273, Acc 70.24%\n"
     ]
    },
    {
     "name": "stderr",
     "output_type": "stream",
     "text": [
      "                                                         \r"
     ]
    },
    {
     "name": "stdout",
     "output_type": "stream",
     "text": [
      "    Epoch 8: Train Loss 0.0268, Acc 77.08%\n"
     ]
    },
    {
     "name": "stderr",
     "output_type": "stream",
     "text": [
      "                                                           \r"
     ]
    },
    {
     "name": "stdout",
     "output_type": "stream",
     "text": [
      "    Val F1: 0.8217\n",
      "  Fold 3/5\n",
      "\n",
      "=== 模型结构验证 ===\n",
      "输入维度: 69\n",
      "隐藏层维度: [140, 81, 52]\n",
      "输出维度: 4\n",
      "\n",
      "测试输入形状: torch.Size([2, 69])\n",
      "测试输出形状: torch.Size([2, 4])\n"
     ]
    },
    {
     "name": "stderr",
     "output_type": "stream",
     "text": [
      "                                                         \r"
     ]
    },
    {
     "name": "stdout",
     "output_type": "stream",
     "text": [
      "    Epoch 1: Train Loss 0.0445, Acc 29.02%\n"
     ]
    },
    {
     "name": "stderr",
     "output_type": "stream",
     "text": [
      "                                                         \r"
     ]
    },
    {
     "name": "stdout",
     "output_type": "stream",
     "text": [
      "    Epoch 2: Train Loss 0.0419, Acc 48.98%\n"
     ]
    },
    {
     "name": "stderr",
     "output_type": "stream",
     "text": [
      "                                                         \r"
     ]
    },
    {
     "name": "stdout",
     "output_type": "stream",
     "text": [
      "    Epoch 3: Train Loss 0.0378, Acc 56.75%\n"
     ]
    },
    {
     "name": "stderr",
     "output_type": "stream",
     "text": [
      "                                                         \r"
     ]
    },
    {
     "name": "stdout",
     "output_type": "stream",
     "text": [
      "    Epoch 4: Train Loss 0.0380, Acc 65.80%\n"
     ]
    },
    {
     "name": "stderr",
     "output_type": "stream",
     "text": [
      "                                                         \r"
     ]
    },
    {
     "name": "stdout",
     "output_type": "stream",
     "text": [
      "    Epoch 5: Train Loss 0.0344, Acc 71.90%\n"
     ]
    },
    {
     "name": "stderr",
     "output_type": "stream",
     "text": [
      "                                                         \r"
     ]
    },
    {
     "name": "stdout",
     "output_type": "stream",
     "text": [
      "    Epoch 6: Train Loss 0.0301, Acc 73.94%\n"
     ]
    },
    {
     "name": "stderr",
     "output_type": "stream",
     "text": [
      "                                                         \r"
     ]
    },
    {
     "name": "stdout",
     "output_type": "stream",
     "text": [
      "    Epoch 7: Train Loss 0.0287, Acc 75.42%\n"
     ]
    },
    {
     "name": "stderr",
     "output_type": "stream",
     "text": [
      "                                                         \r"
     ]
    },
    {
     "name": "stdout",
     "output_type": "stream",
     "text": [
      "    Epoch 8: Train Loss 0.0199, Acc 79.85%\n"
     ]
    },
    {
     "name": "stderr",
     "output_type": "stream",
     "text": [
      "                                                           \r"
     ]
    },
    {
     "name": "stdout",
     "output_type": "stream",
     "text": [
      "    Val F1: 0.8161\n",
      "  Fold 4/5\n",
      "\n",
      "=== 模型结构验证 ===\n",
      "输入维度: 69\n",
      "隐藏层维度: [140, 81, 52]\n",
      "输出维度: 4\n",
      "\n",
      "测试输入形状: torch.Size([2, 69])\n",
      "测试输出形状: torch.Size([2, 4])\n"
     ]
    },
    {
     "name": "stderr",
     "output_type": "stream",
     "text": [
      "                                                         \r"
     ]
    },
    {
     "name": "stdout",
     "output_type": "stream",
     "text": [
      "    Epoch 1: Train Loss 0.0413, Acc 36.23%\n"
     ]
    },
    {
     "name": "stderr",
     "output_type": "stream",
     "text": [
      "                                                         \r"
     ]
    },
    {
     "name": "stdout",
     "output_type": "stream",
     "text": [
      "    Epoch 2: Train Loss 0.0415, Acc 49.54%\n"
     ]
    },
    {
     "name": "stderr",
     "output_type": "stream",
     "text": [
      "                                                         \r"
     ]
    },
    {
     "name": "stdout",
     "output_type": "stream",
     "text": [
      "    Epoch 3: Train Loss 0.0373, Acc 60.26%\n"
     ]
    },
    {
     "name": "stderr",
     "output_type": "stream",
     "text": [
      "                                                         \r"
     ]
    },
    {
     "name": "stdout",
     "output_type": "stream",
     "text": [
      "    Epoch 4: Train Loss 0.0369, Acc 67.10%\n"
     ]
    },
    {
     "name": "stderr",
     "output_type": "stream",
     "text": [
      "                                                         \r"
     ]
    },
    {
     "name": "stdout",
     "output_type": "stream",
     "text": [
      "    Epoch 5: Train Loss 0.0183, Acc 70.79%\n"
     ]
    },
    {
     "name": "stderr",
     "output_type": "stream",
     "text": [
      "                                                         \r"
     ]
    },
    {
     "name": "stdout",
     "output_type": "stream",
     "text": [
      "    Epoch 6: Train Loss 0.0297, Acc 73.75%\n"
     ]
    },
    {
     "name": "stderr",
     "output_type": "stream",
     "text": [
      "                                                         \r"
     ]
    },
    {
     "name": "stdout",
     "output_type": "stream",
     "text": [
      "    Epoch 7: Train Loss 0.0297, Acc 75.23%\n"
     ]
    },
    {
     "name": "stderr",
     "output_type": "stream",
     "text": [
      "                                                         \r"
     ]
    },
    {
     "name": "stdout",
     "output_type": "stream",
     "text": [
      "    Epoch 8: Train Loss 0.0252, Acc 78.74%\n"
     ]
    },
    {
     "name": "stderr",
     "output_type": "stream",
     "text": [
      "                                                           \r"
     ]
    },
    {
     "name": "stdout",
     "output_type": "stream",
     "text": [
      "    Val F1: 0.7975\n",
      "  Fold 5/5\n",
      "\n",
      "=== 模型结构验证 ===\n",
      "输入维度: 69\n",
      "隐藏层维度: [140, 81, 52]\n",
      "输出维度: 4\n",
      "\n",
      "测试输入形状: torch.Size([2, 69])\n",
      "测试输出形状: torch.Size([2, 4])\n"
     ]
    },
    {
     "name": "stderr",
     "output_type": "stream",
     "text": [
      "                                                         \r"
     ]
    },
    {
     "name": "stdout",
     "output_type": "stream",
     "text": [
      "    Epoch 1: Train Loss 0.0470, Acc 37.71%\n"
     ]
    },
    {
     "name": "stderr",
     "output_type": "stream",
     "text": [
      "                                                         \r"
     ]
    },
    {
     "name": "stdout",
     "output_type": "stream",
     "text": [
      "    Epoch 2: Train Loss 0.0412, Acc 51.57%\n"
     ]
    },
    {
     "name": "stderr",
     "output_type": "stream",
     "text": [
      "                                                         \r"
     ]
    },
    {
     "name": "stdout",
     "output_type": "stream",
     "text": [
      "    Epoch 3: Train Loss 0.0381, Acc 59.70%\n"
     ]
    },
    {
     "name": "stderr",
     "output_type": "stream",
     "text": [
      "                                                         \r"
     ]
    },
    {
     "name": "stdout",
     "output_type": "stream",
     "text": [
      "    Epoch 4: Train Loss 0.0333, Acc 63.77%\n"
     ]
    },
    {
     "name": "stderr",
     "output_type": "stream",
     "text": [
      "                                                         \r"
     ]
    },
    {
     "name": "stdout",
     "output_type": "stream",
     "text": [
      "    Epoch 5: Train Loss 0.0406, Acc 73.94%\n"
     ]
    },
    {
     "name": "stderr",
     "output_type": "stream",
     "text": [
      "                                                         \r"
     ]
    },
    {
     "name": "stdout",
     "output_type": "stream",
     "text": [
      "    Epoch 6: Train Loss 0.0297, Acc 76.71%\n"
     ]
    },
    {
     "name": "stderr",
     "output_type": "stream",
     "text": [
      "                                                         \r"
     ]
    },
    {
     "name": "stdout",
     "output_type": "stream",
     "text": [
      "    Epoch 7: Train Loss 0.0234, Acc 77.82%\n"
     ]
    },
    {
     "name": "stderr",
     "output_type": "stream",
     "text": [
      "                                                         \r"
     ]
    },
    {
     "name": "stdout",
     "output_type": "stream",
     "text": [
      "    Epoch 8: Train Loss 0.0213, Acc 79.48%\n"
     ]
    },
    {
     "name": "stderr",
     "output_type": "stream",
     "text": [
      "                                                           \r"
     ]
    },
    {
     "name": "stdout",
     "output_type": "stream",
     "text": [
      "    Val F1: 0.7716\n",
      "\n",
      "Iteration 6/10: Testing params {'lr': 0.0006482179051002894, 'batch_size': 18.738218371169552, 'hidden_dim1': 221.3282301376447, 'hidden_dim2': 74.45775960076341, 'hidden_dim3': 44.14257413624473, 'dropout': 0.19895233506365953, 'scaling_factor': 6.759997838686836e-05, 'prior_sigma1': 0.7784748718873231, 'prior_sigma2': 0.07161528258908872, 'prior_pi': 0.4607129800474524, 'epochs_per_fold': 8.879999557731225}\n",
      "  Fold 1/5\n",
      "\n",
      "=== 模型结构验证 ===\n",
      "输入维度: 69\n",
      "隐藏层维度: [221, 74, 44]\n",
      "输出维度: 4\n",
      "\n",
      "测试输入形状: torch.Size([2, 69])\n",
      "测试输出形状: torch.Size([2, 4])\n"
     ]
    },
    {
     "name": "stderr",
     "output_type": "stream",
     "text": [
      "                                                         \r"
     ]
    },
    {
     "name": "stdout",
     "output_type": "stream",
     "text": [
      "    Epoch 1: Train Loss 0.0336, Acc 48.52%\n"
     ]
    },
    {
     "name": "stderr",
     "output_type": "stream",
     "text": [
      "                                                         \r"
     ]
    },
    {
     "name": "stdout",
     "output_type": "stream",
     "text": [
      "    Epoch 2: Train Loss 0.0289, Acc 72.78%\n"
     ]
    },
    {
     "name": "stderr",
     "output_type": "stream",
     "text": [
      "                                                         \r"
     ]
    },
    {
     "name": "stdout",
     "output_type": "stream",
     "text": [
      "    Epoch 3: Train Loss 0.0132, Acc 81.11%\n"
     ]
    },
    {
     "name": "stderr",
     "output_type": "stream",
     "text": [
      "                                                         \r"
     ]
    },
    {
     "name": "stdout",
     "output_type": "stream",
     "text": [
      "    Epoch 4: Train Loss 0.0130, Acc 84.63%\n"
     ]
    },
    {
     "name": "stderr",
     "output_type": "stream",
     "text": [
      "                                                         \r"
     ]
    },
    {
     "name": "stdout",
     "output_type": "stream",
     "text": [
      "    Epoch 5: Train Loss 0.0109, Acc 86.30%\n"
     ]
    },
    {
     "name": "stderr",
     "output_type": "stream",
     "text": [
      "                                                         \r"
     ]
    },
    {
     "name": "stdout",
     "output_type": "stream",
     "text": [
      "    Epoch 6: Train Loss 0.0138, Acc 91.48%\n"
     ]
    },
    {
     "name": "stderr",
     "output_type": "stream",
     "text": [
      "                                                         \r"
     ]
    },
    {
     "name": "stdout",
     "output_type": "stream",
     "text": [
      "    Epoch 7: Train Loss 0.0108, Acc 91.85%\n"
     ]
    },
    {
     "name": "stderr",
     "output_type": "stream",
     "text": [
      "                                                         \r"
     ]
    },
    {
     "name": "stdout",
     "output_type": "stream",
     "text": [
      "    Epoch 8: Train Loss 0.0082, Acc 92.04%\n"
     ]
    },
    {
     "name": "stderr",
     "output_type": "stream",
     "text": [
      "                                                           \r"
     ]
    },
    {
     "name": "stdout",
     "output_type": "stream",
     "text": [
      "    Val F1: 0.9097\n",
      "  Fold 2/5\n",
      "\n",
      "=== 模型结构验证 ===\n",
      "输入维度: 69\n",
      "隐藏层维度: [221, 74, 44]\n",
      "输出维度: 4\n",
      "\n",
      "测试输入形状: torch.Size([2, 69])\n",
      "测试输出形状: torch.Size([2, 4])\n"
     ]
    },
    {
     "name": "stderr",
     "output_type": "stream",
     "text": [
      "                                                         \r"
     ]
    },
    {
     "name": "stdout",
     "output_type": "stream",
     "text": [
      "    Epoch 1: Train Loss 0.0368, Acc 48.43%\n"
     ]
    },
    {
     "name": "stderr",
     "output_type": "stream",
     "text": [
      "                                                         \r"
     ]
    },
    {
     "name": "stdout",
     "output_type": "stream",
     "text": [
      "    Epoch 2: Train Loss 0.0106, Acc 65.62%\n"
     ]
    },
    {
     "name": "stderr",
     "output_type": "stream",
     "text": [
      "                                                         \r"
     ]
    },
    {
     "name": "stdout",
     "output_type": "stream",
     "text": [
      "    Epoch 3: Train Loss 0.0246, Acc 77.26%\n"
     ]
    },
    {
     "name": "stderr",
     "output_type": "stream",
     "text": [
      "                                                         \r"
     ]
    },
    {
     "name": "stdout",
     "output_type": "stream",
     "text": [
      "    Epoch 4: Train Loss 0.0235, Acc 84.29%\n"
     ]
    },
    {
     "name": "stderr",
     "output_type": "stream",
     "text": [
      "                                                         \r"
     ]
    },
    {
     "name": "stdout",
     "output_type": "stream",
     "text": [
      "    Epoch 5: Train Loss 0.0151, Acc 86.88%\n"
     ]
    },
    {
     "name": "stderr",
     "output_type": "stream",
     "text": [
      "                                                         \r"
     ]
    },
    {
     "name": "stdout",
     "output_type": "stream",
     "text": [
      "    Epoch 6: Train Loss 0.0076, Acc 88.17%\n"
     ]
    },
    {
     "name": "stderr",
     "output_type": "stream",
     "text": [
      "                                                         \r"
     ]
    },
    {
     "name": "stdout",
     "output_type": "stream",
     "text": [
      "    Epoch 7: Train Loss 0.0020, Acc 88.72%\n"
     ]
    },
    {
     "name": "stderr",
     "output_type": "stream",
     "text": [
      "                                                         \r"
     ]
    },
    {
     "name": "stdout",
     "output_type": "stream",
     "text": [
      "    Epoch 8: Train Loss 0.0015, Acc 90.76%\n"
     ]
    },
    {
     "name": "stderr",
     "output_type": "stream",
     "text": [
      "                                                           \r"
     ]
    },
    {
     "name": "stdout",
     "output_type": "stream",
     "text": [
      "    Val F1: 0.9287\n",
      "  Fold 3/5\n",
      "\n",
      "=== 模型结构验证 ===\n",
      "输入维度: 69\n",
      "隐藏层维度: [221, 74, 44]\n",
      "输出维度: 4\n",
      "\n",
      "测试输入形状: torch.Size([2, 69])\n",
      "测试输出形状: torch.Size([2, 4])\n"
     ]
    },
    {
     "name": "stderr",
     "output_type": "stream",
     "text": [
      "                                                          \r"
     ]
    },
    {
     "name": "stdout",
     "output_type": "stream",
     "text": [
      "    Epoch 1: Train Loss 0.0485, Acc 48.06%\n"
     ]
    },
    {
     "name": "stderr",
     "output_type": "stream",
     "text": [
      "                                                          \r"
     ]
    },
    {
     "name": "stdout",
     "output_type": "stream",
     "text": [
      "    Epoch 2: Train Loss 0.0435, Acc 70.79%\n"
     ]
    },
    {
     "name": "stderr",
     "output_type": "stream",
     "text": [
      "                                                          \r"
     ]
    },
    {
     "name": "stdout",
     "output_type": "stream",
     "text": [
      "    Epoch 3: Train Loss 0.0268, Acc 81.15%\n"
     ]
    },
    {
     "name": "stderr",
     "output_type": "stream",
     "text": [
      "                                                          \r"
     ]
    },
    {
     "name": "stdout",
     "output_type": "stream",
     "text": [
      "    Epoch 4: Train Loss 0.0020, Acc 85.21%\n"
     ]
    },
    {
     "name": "stderr",
     "output_type": "stream",
     "text": [
      "                                                          \r"
     ]
    },
    {
     "name": "stdout",
     "output_type": "stream",
     "text": [
      "    Epoch 5: Train Loss 0.0023, Acc 89.09%\n"
     ]
    },
    {
     "name": "stderr",
     "output_type": "stream",
     "text": [
      "                                                          \r"
     ]
    },
    {
     "name": "stdout",
     "output_type": "stream",
     "text": [
      "    Epoch 6: Train Loss 0.0039, Acc 89.09%\n"
     ]
    },
    {
     "name": "stderr",
     "output_type": "stream",
     "text": [
      "                                                          \r"
     ]
    },
    {
     "name": "stdout",
     "output_type": "stream",
     "text": [
      "    Epoch 7: Train Loss 0.0057, Acc 90.20%\n"
     ]
    },
    {
     "name": "stderr",
     "output_type": "stream",
     "text": [
      "                                                          \r"
     ]
    },
    {
     "name": "stdout",
     "output_type": "stream",
     "text": [
      "    Epoch 8: Train Loss 0.0015, Acc 90.02%\n"
     ]
    },
    {
     "name": "stderr",
     "output_type": "stream",
     "text": [
      "                                                           \r"
     ]
    },
    {
     "name": "stdout",
     "output_type": "stream",
     "text": [
      "    Val F1: 0.9187\n",
      "  Fold 4/5\n",
      "\n",
      "=== 模型结构验证 ===\n",
      "输入维度: 69\n",
      "隐藏层维度: [221, 74, 44]\n",
      "输出维度: 4\n",
      "\n",
      "测试输入形状: torch.Size([2, 69])\n",
      "测试输出形状: torch.Size([2, 4])\n"
     ]
    },
    {
     "name": "stderr",
     "output_type": "stream",
     "text": [
      "                                                          \r"
     ]
    },
    {
     "name": "stdout",
     "output_type": "stream",
     "text": [
      "    Epoch 1: Train Loss 0.0223, Acc 41.96%\n"
     ]
    },
    {
     "name": "stderr",
     "output_type": "stream",
     "text": [
      "                                                          \r"
     ]
    },
    {
     "name": "stdout",
     "output_type": "stream",
     "text": [
      "    Epoch 2: Train Loss 0.0197, Acc 65.80%\n"
     ]
    },
    {
     "name": "stderr",
     "output_type": "stream",
     "text": [
      "                                                          \r"
     ]
    },
    {
     "name": "stdout",
     "output_type": "stream",
     "text": [
      "    Epoch 3: Train Loss 0.0037, Acc 78.37%\n"
     ]
    },
    {
     "name": "stderr",
     "output_type": "stream",
     "text": [
      "                                                          \r"
     ]
    },
    {
     "name": "stdout",
     "output_type": "stream",
     "text": [
      "    Epoch 4: Train Loss 0.0187, Acc 83.55%\n"
     ]
    },
    {
     "name": "stderr",
     "output_type": "stream",
     "text": [
      "                                                          \r"
     ]
    },
    {
     "name": "stdout",
     "output_type": "stream",
     "text": [
      "    Epoch 5: Train Loss 0.0099, Acc 84.84%\n"
     ]
    },
    {
     "name": "stderr",
     "output_type": "stream",
     "text": [
      "                                                          \r"
     ]
    },
    {
     "name": "stdout",
     "output_type": "stream",
     "text": [
      "    Epoch 6: Train Loss 0.0474, Acc 87.25%\n"
     ]
    },
    {
     "name": "stderr",
     "output_type": "stream",
     "text": [
      "                                                          \r"
     ]
    },
    {
     "name": "stdout",
     "output_type": "stream",
     "text": [
      "    Epoch 7: Train Loss 0.0016, Acc 88.17%\n"
     ]
    },
    {
     "name": "stderr",
     "output_type": "stream",
     "text": [
      "                                                          \r"
     ]
    },
    {
     "name": "stdout",
     "output_type": "stream",
     "text": [
      "    Epoch 8: Train Loss 0.0024, Acc 89.65%\n"
     ]
    },
    {
     "name": "stderr",
     "output_type": "stream",
     "text": [
      "                                                           \r"
     ]
    },
    {
     "name": "stdout",
     "output_type": "stream",
     "text": [
      "    Val F1: 0.9343\n",
      "  Fold 5/5\n",
      "\n",
      "=== 模型结构验证 ===\n",
      "输入维度: 69\n",
      "隐藏层维度: [221, 74, 44]\n",
      "输出维度: 4\n",
      "\n",
      "测试输入形状: torch.Size([2, 69])\n",
      "测试输出形状: torch.Size([2, 4])\n"
     ]
    },
    {
     "name": "stderr",
     "output_type": "stream",
     "text": [
      "                                                          \r"
     ]
    },
    {
     "name": "stdout",
     "output_type": "stream",
     "text": [
      "    Epoch 1: Train Loss 0.0486, Acc 46.77%\n"
     ]
    },
    {
     "name": "stderr",
     "output_type": "stream",
     "text": [
      "                                                          \r"
     ]
    },
    {
     "name": "stdout",
     "output_type": "stream",
     "text": [
      "    Epoch 2: Train Loss 0.0083, Acc 71.16%\n"
     ]
    },
    {
     "name": "stderr",
     "output_type": "stream",
     "text": [
      "                                                          \r"
     ]
    },
    {
     "name": "stdout",
     "output_type": "stream",
     "text": [
      "    Epoch 3: Train Loss 0.0295, Acc 79.85%\n"
     ]
    },
    {
     "name": "stderr",
     "output_type": "stream",
     "text": [
      "                                                          \r"
     ]
    },
    {
     "name": "stdout",
     "output_type": "stream",
     "text": [
      "    Epoch 4: Train Loss 0.0079, Acc 84.47%\n"
     ]
    },
    {
     "name": "stderr",
     "output_type": "stream",
     "text": [
      "                                                          \r"
     ]
    },
    {
     "name": "stdout",
     "output_type": "stream",
     "text": [
      "    Epoch 5: Train Loss 0.0016, Acc 88.17%\n"
     ]
    },
    {
     "name": "stderr",
     "output_type": "stream",
     "text": [
      "                                                          \r"
     ]
    },
    {
     "name": "stdout",
     "output_type": "stream",
     "text": [
      "    Epoch 6: Train Loss 0.0446, Acc 90.39%\n"
     ]
    },
    {
     "name": "stderr",
     "output_type": "stream",
     "text": [
      "                                                          \r"
     ]
    },
    {
     "name": "stdout",
     "output_type": "stream",
     "text": [
      "    Epoch 7: Train Loss 0.0017, Acc 90.57%\n"
     ]
    },
    {
     "name": "stderr",
     "output_type": "stream",
     "text": [
      "                                                          \r"
     ]
    },
    {
     "name": "stdout",
     "output_type": "stream",
     "text": [
      "    Epoch 8: Train Loss 0.0065, Acc 90.76%\n"
     ]
    },
    {
     "name": "stderr",
     "output_type": "stream",
     "text": [
      "                                                           \r"
     ]
    },
    {
     "name": "stdout",
     "output_type": "stream",
     "text": [
      "    Val F1: 0.9046\n",
      "\n",
      "Iteration 7/10: Testing params {'lr': 0.0003061432647676939, 'batch_size': 16.513603902464602, 'hidden_dim1': 168.37799015156247, 'hidden_dim2': 81.13541606244497, 'hidden_dim3': 38.75145099476245, 'dropout': 0.19429097143350546, 'scaling_factor': 8.88730863825402e-05, 'prior_sigma1': 0.6573389403992389, 'prior_sigma2': 0.06898947987653921, 'prior_pi': 0.34890797526516604, 'epochs_per_fold': 9.572737948702716}\n",
      "  Fold 1/5\n",
      "\n",
      "=== 模型结构验证 ===\n",
      "输入维度: 69\n",
      "隐藏层维度: [168, 81, 38]\n",
      "输出维度: 4\n",
      "\n",
      "测试输入形状: torch.Size([2, 69])\n",
      "测试输出形状: torch.Size([2, 4])\n"
     ]
    },
    {
     "name": "stderr",
     "output_type": "stream",
     "text": [
      "                                                          \r"
     ]
    },
    {
     "name": "stdout",
     "output_type": "stream",
     "text": [
      "    Epoch 1: Train Loss 0.0321, Acc 38.33%\n"
     ]
    },
    {
     "name": "stderr",
     "output_type": "stream",
     "text": [
      "                                                          \r"
     ]
    },
    {
     "name": "stdout",
     "output_type": "stream",
     "text": [
      "    Epoch 2: Train Loss 0.0327, Acc 59.07%\n"
     ]
    },
    {
     "name": "stderr",
     "output_type": "stream",
     "text": [
      "                                                          \r"
     ]
    },
    {
     "name": "stdout",
     "output_type": "stream",
     "text": [
      "    Epoch 3: Train Loss 0.0263, Acc 70.93%\n"
     ]
    },
    {
     "name": "stderr",
     "output_type": "stream",
     "text": [
      "                                                          \r"
     ]
    },
    {
     "name": "stdout",
     "output_type": "stream",
     "text": [
      "    Epoch 4: Train Loss 0.0242, Acc 79.81%\n"
     ]
    },
    {
     "name": "stderr",
     "output_type": "stream",
     "text": [
      "                                                          \r"
     ]
    },
    {
     "name": "stdout",
     "output_type": "stream",
     "text": [
      "    Epoch 5: Train Loss 0.0200, Acc 78.70%\n"
     ]
    },
    {
     "name": "stderr",
     "output_type": "stream",
     "text": [
      "                                                          \r"
     ]
    },
    {
     "name": "stdout",
     "output_type": "stream",
     "text": [
      "    Epoch 6: Train Loss 0.0113, Acc 84.26%\n"
     ]
    },
    {
     "name": "stderr",
     "output_type": "stream",
     "text": [
      "                                                          \r"
     ]
    },
    {
     "name": "stdout",
     "output_type": "stream",
     "text": [
      "    Epoch 7: Train Loss 0.0123, Acc 84.63%\n"
     ]
    },
    {
     "name": "stderr",
     "output_type": "stream",
     "text": [
      "                                                          \r"
     ]
    },
    {
     "name": "stdout",
     "output_type": "stream",
     "text": [
      "    Epoch 8: Train Loss 0.0093, Acc 84.63%\n"
     ]
    },
    {
     "name": "stderr",
     "output_type": "stream",
     "text": [
      "                                                          \r"
     ]
    },
    {
     "name": "stdout",
     "output_type": "stream",
     "text": [
      "    Epoch 9: Train Loss 0.0160, Acc 90.93%\n"
     ]
    },
    {
     "name": "stderr",
     "output_type": "stream",
     "text": [
      "                                                           \r"
     ]
    },
    {
     "name": "stdout",
     "output_type": "stream",
     "text": [
      "    Val F1: 0.8913\n",
      "  Fold 2/5\n",
      "\n",
      "=== 模型结构验证 ===\n",
      "输入维度: 69\n",
      "隐藏层维度: [168, 81, 38]\n",
      "输出维度: 4\n",
      "\n",
      "测试输入形状: torch.Size([2, 69])\n",
      "测试输出形状: torch.Size([2, 4])\n"
     ]
    },
    {
     "name": "stderr",
     "output_type": "stream",
     "text": [
      "                                                          \r"
     ]
    },
    {
     "name": "stdout",
     "output_type": "stream",
     "text": [
      "    Epoch 1: Train Loss 0.0393, Acc 41.22%\n"
     ]
    },
    {
     "name": "stderr",
     "output_type": "stream",
     "text": [
      "                                                          \r"
     ]
    },
    {
     "name": "stdout",
     "output_type": "stream",
     "text": [
      "    Epoch 2: Train Loss 0.0315, Acc 62.85%\n"
     ]
    },
    {
     "name": "stderr",
     "output_type": "stream",
     "text": [
      "                                                          \r"
     ]
    },
    {
     "name": "stdout",
     "output_type": "stream",
     "text": [
      "    Epoch 3: Train Loss 0.0243, Acc 70.61%\n"
     ]
    },
    {
     "name": "stderr",
     "output_type": "stream",
     "text": [
      "                                                          \r"
     ]
    },
    {
     "name": "stdout",
     "output_type": "stream",
     "text": [
      "    Epoch 4: Train Loss 0.0221, Acc 73.75%\n"
     ]
    },
    {
     "name": "stderr",
     "output_type": "stream",
     "text": [
      "                                                          \r"
     ]
    },
    {
     "name": "stdout",
     "output_type": "stream",
     "text": [
      "    Epoch 5: Train Loss 0.0174, Acc 79.30%\n"
     ]
    },
    {
     "name": "stderr",
     "output_type": "stream",
     "text": [
      "                                                          \r"
     ]
    },
    {
     "name": "stdout",
     "output_type": "stream",
     "text": [
      "    Epoch 6: Train Loss 0.0151, Acc 82.07%\n"
     ]
    },
    {
     "name": "stderr",
     "output_type": "stream",
     "text": [
      "                                                          \r"
     ]
    },
    {
     "name": "stdout",
     "output_type": "stream",
     "text": [
      "    Epoch 7: Train Loss 0.0114, Acc 83.36%\n"
     ]
    },
    {
     "name": "stderr",
     "output_type": "stream",
     "text": [
      "                                                          \r"
     ]
    },
    {
     "name": "stdout",
     "output_type": "stream",
     "text": [
      "    Epoch 8: Train Loss 0.0094, Acc 86.69%\n"
     ]
    },
    {
     "name": "stderr",
     "output_type": "stream",
     "text": [
      "                                                          \r"
     ]
    },
    {
     "name": "stdout",
     "output_type": "stream",
     "text": [
      "    Epoch 9: Train Loss 0.0075, Acc 86.32%\n"
     ]
    },
    {
     "name": "stderr",
     "output_type": "stream",
     "text": [
      "                                                           \r"
     ]
    },
    {
     "name": "stdout",
     "output_type": "stream",
     "text": [
      "    Val F1: 0.9123\n",
      "  Fold 3/5\n",
      "\n",
      "=== 模型结构验证 ===\n",
      "输入维度: 69\n",
      "隐藏层维度: [168, 81, 38]\n",
      "输出维度: 4\n",
      "\n",
      "测试输入形状: torch.Size([2, 69])\n",
      "测试输出形状: torch.Size([2, 4])\n"
     ]
    },
    {
     "name": "stderr",
     "output_type": "stream",
     "text": [
      "                                                          \r"
     ]
    },
    {
     "name": "stdout",
     "output_type": "stream",
     "text": [
      "    Epoch 1: Train Loss 0.0378, Acc 37.71%\n"
     ]
    },
    {
     "name": "stderr",
     "output_type": "stream",
     "text": [
      "                                                          \r"
     ]
    },
    {
     "name": "stdout",
     "output_type": "stream",
     "text": [
      "    Epoch 2: Train Loss 0.0381, Acc 58.41%\n"
     ]
    },
    {
     "name": "stderr",
     "output_type": "stream",
     "text": [
      "                                                          \r"
     ]
    },
    {
     "name": "stdout",
     "output_type": "stream",
     "text": [
      "    Epoch 3: Train Loss 0.0240, Acc 67.65%\n"
     ]
    },
    {
     "name": "stderr",
     "output_type": "stream",
     "text": [
      "                                                          \r"
     ]
    },
    {
     "name": "stdout",
     "output_type": "stream",
     "text": [
      "    Epoch 4: Train Loss 0.0254, Acc 73.38%\n"
     ]
    },
    {
     "name": "stderr",
     "output_type": "stream",
     "text": [
      "                                                          \r"
     ]
    },
    {
     "name": "stdout",
     "output_type": "stream",
     "text": [
      "    Epoch 5: Train Loss 0.0242, Acc 79.85%\n"
     ]
    },
    {
     "name": "stderr",
     "output_type": "stream",
     "text": [
      "                                                          \r"
     ]
    },
    {
     "name": "stdout",
     "output_type": "stream",
     "text": [
      "    Epoch 6: Train Loss 0.0200, Acc 80.96%\n"
     ]
    },
    {
     "name": "stderr",
     "output_type": "stream",
     "text": [
      "                                                          \r"
     ]
    },
    {
     "name": "stdout",
     "output_type": "stream",
     "text": [
      "    Epoch 7: Train Loss 0.0132, Acc 83.92%\n"
     ]
    },
    {
     "name": "stderr",
     "output_type": "stream",
     "text": [
      "                                                          \r"
     ]
    },
    {
     "name": "stdout",
     "output_type": "stream",
     "text": [
      "    Epoch 8: Train Loss 0.0118, Acc 85.58%\n"
     ]
    },
    {
     "name": "stderr",
     "output_type": "stream",
     "text": [
      "                                                          \r"
     ]
    },
    {
     "name": "stdout",
     "output_type": "stream",
     "text": [
      "    Epoch 9: Train Loss 0.0139, Acc 89.46%\n"
     ]
    },
    {
     "name": "stderr",
     "output_type": "stream",
     "text": [
      "                                                           \r"
     ]
    },
    {
     "name": "stdout",
     "output_type": "stream",
     "text": [
      "    Val F1: 0.8717\n",
      "  Fold 4/5\n",
      "\n",
      "=== 模型结构验证 ===\n",
      "输入维度: 69\n",
      "隐藏层维度: [168, 81, 38]\n",
      "输出维度: 4\n",
      "\n",
      "测试输入形状: torch.Size([2, 69])\n",
      "测试输出形状: torch.Size([2, 4])\n"
     ]
    },
    {
     "name": "stderr",
     "output_type": "stream",
     "text": [
      "                                                          \r"
     ]
    },
    {
     "name": "stdout",
     "output_type": "stream",
     "text": [
      "    Epoch 1: Train Loss 0.0395, Acc 33.27%\n"
     ]
    },
    {
     "name": "stderr",
     "output_type": "stream",
     "text": [
      "                                                          \r"
     ]
    },
    {
     "name": "stdout",
     "output_type": "stream",
     "text": [
      "    Epoch 2: Train Loss 0.0363, Acc 50.09%\n"
     ]
    },
    {
     "name": "stderr",
     "output_type": "stream",
     "text": [
      "                                                          \r"
     ]
    },
    {
     "name": "stdout",
     "output_type": "stream",
     "text": [
      "    Epoch 3: Train Loss 0.0314, Acc 62.11%\n"
     ]
    },
    {
     "name": "stderr",
     "output_type": "stream",
     "text": [
      "                                                          \r"
     ]
    },
    {
     "name": "stdout",
     "output_type": "stream",
     "text": [
      "    Epoch 4: Train Loss 0.0173, Acc 73.01%\n"
     ]
    },
    {
     "name": "stderr",
     "output_type": "stream",
     "text": [
      "                                                          \r"
     ]
    },
    {
     "name": "stdout",
     "output_type": "stream",
     "text": [
      "    Epoch 5: Train Loss 0.0211, Acc 75.42%\n"
     ]
    },
    {
     "name": "stderr",
     "output_type": "stream",
     "text": [
      "                                                          \r"
     ]
    },
    {
     "name": "stdout",
     "output_type": "stream",
     "text": [
      "    Epoch 6: Train Loss 0.0227, Acc 79.11%\n"
     ]
    },
    {
     "name": "stderr",
     "output_type": "stream",
     "text": [
      "                                                          \r"
     ]
    },
    {
     "name": "stdout",
     "output_type": "stream",
     "text": [
      "    Epoch 7: Train Loss 0.0093, Acc 80.41%\n"
     ]
    },
    {
     "name": "stderr",
     "output_type": "stream",
     "text": [
      "                                                          \r"
     ]
    },
    {
     "name": "stdout",
     "output_type": "stream",
     "text": [
      "    Epoch 8: Train Loss 0.0141, Acc 83.36%\n"
     ]
    },
    {
     "name": "stderr",
     "output_type": "stream",
     "text": [
      "                                                          \r"
     ]
    },
    {
     "name": "stdout",
     "output_type": "stream",
     "text": [
      "    Epoch 9: Train Loss 0.0117, Acc 86.51%\n"
     ]
    },
    {
     "name": "stderr",
     "output_type": "stream",
     "text": [
      "                                                           \r"
     ]
    },
    {
     "name": "stdout",
     "output_type": "stream",
     "text": [
      "    Val F1: 0.8732\n",
      "  Fold 5/5\n",
      "\n",
      "=== 模型结构验证 ===\n",
      "输入维度: 69\n",
      "隐藏层维度: [168, 81, 38]\n",
      "输出维度: 4\n",
      "\n",
      "测试输入形状: torch.Size([2, 69])\n",
      "测试输出形状: torch.Size([2, 4])\n"
     ]
    },
    {
     "name": "stderr",
     "output_type": "stream",
     "text": [
      "                                                          \r"
     ]
    },
    {
     "name": "stdout",
     "output_type": "stream",
     "text": [
      "    Epoch 1: Train Loss 0.0376, Acc 30.68%\n"
     ]
    },
    {
     "name": "stderr",
     "output_type": "stream",
     "text": [
      "                                                          \r"
     ]
    },
    {
     "name": "stdout",
     "output_type": "stream",
     "text": [
      "    Epoch 2: Train Loss 0.0357, Acc 55.27%\n"
     ]
    },
    {
     "name": "stderr",
     "output_type": "stream",
     "text": [
      "                                                          \r"
     ]
    },
    {
     "name": "stdout",
     "output_type": "stream",
     "text": [
      "    Epoch 3: Train Loss 0.0314, Acc 70.24%\n"
     ]
    },
    {
     "name": "stderr",
     "output_type": "stream",
     "text": [
      "                                                          \r"
     ]
    },
    {
     "name": "stdout",
     "output_type": "stream",
     "text": [
      "    Epoch 4: Train Loss 0.0239, Acc 73.01%\n"
     ]
    },
    {
     "name": "stderr",
     "output_type": "stream",
     "text": [
      "                                                          \r"
     ]
    },
    {
     "name": "stdout",
     "output_type": "stream",
     "text": [
      "    Epoch 5: Train Loss 0.0190, Acc 78.56%\n"
     ]
    },
    {
     "name": "stderr",
     "output_type": "stream",
     "text": [
      "                                                          \r"
     ]
    },
    {
     "name": "stdout",
     "output_type": "stream",
     "text": [
      "    Epoch 6: Train Loss 0.0213, Acc 80.59%\n"
     ]
    },
    {
     "name": "stderr",
     "output_type": "stream",
     "text": [
      "                                                          \r"
     ]
    },
    {
     "name": "stdout",
     "output_type": "stream",
     "text": [
      "    Epoch 7: Train Loss 0.0195, Acc 85.03%\n"
     ]
    },
    {
     "name": "stderr",
     "output_type": "stream",
     "text": [
      "                                                          \r"
     ]
    },
    {
     "name": "stdout",
     "output_type": "stream",
     "text": [
      "    Epoch 8: Train Loss 0.0185, Acc 86.32%\n"
     ]
    },
    {
     "name": "stderr",
     "output_type": "stream",
     "text": [
      "                                                          \r"
     ]
    },
    {
     "name": "stdout",
     "output_type": "stream",
     "text": [
      "    Epoch 9: Train Loss 0.0100, Acc 86.88%\n"
     ]
    },
    {
     "name": "stderr",
     "output_type": "stream",
     "text": [
      "                                                           \r"
     ]
    },
    {
     "name": "stdout",
     "output_type": "stream",
     "text": [
      "    Val F1: 0.8632\n",
      "\n",
      "Iteration 8/10: Testing params {'lr': 0.0005129666673286589, 'batch_size': 20.23808266396884, 'hidden_dim1': 159.56832098482988, 'hidden_dim2': 99.92756058644164, 'hidden_dim3': 40.40773147273393, 'dropout': 0.15845859902235407, 'scaling_factor': 9.080405952422293e-05, 'prior_sigma1': 0.6997002525701986, 'prior_sigma2': 0.029738868324155503, 'prior_pi': 0.49938440162377756, 'epochs_per_fold': 7.547631468382322}\n",
      "  Fold 1/5\n",
      "\n",
      "=== 模型结构验证 ===\n",
      "输入维度: 69\n",
      "隐藏层维度: [159, 99, 40]\n",
      "输出维度: 4\n",
      "\n",
      "测试输入形状: torch.Size([2, 69])\n",
      "测试输出形状: torch.Size([2, 4])\n"
     ]
    },
    {
     "name": "stderr",
     "output_type": "stream",
     "text": [
      "                                                          \r"
     ]
    },
    {
     "name": "stdout",
     "output_type": "stream",
     "text": [
      "    Epoch 1: Train Loss 0.0448, Acc 50.37%\n"
     ]
    },
    {
     "name": "stderr",
     "output_type": "stream",
     "text": [
      "                                                          \r"
     ]
    },
    {
     "name": "stdout",
     "output_type": "stream",
     "text": [
      "    Epoch 2: Train Loss 0.0304, Acc 72.41%\n"
     ]
    },
    {
     "name": "stderr",
     "output_type": "stream",
     "text": [
      "                                                          \r"
     ]
    },
    {
     "name": "stdout",
     "output_type": "stream",
     "text": [
      "    Epoch 3: Train Loss 0.0185, Acc 79.26%\n"
     ]
    },
    {
     "name": "stderr",
     "output_type": "stream",
     "text": [
      "                                                          \r"
     ]
    },
    {
     "name": "stdout",
     "output_type": "stream",
     "text": [
      "    Epoch 4: Train Loss 0.0254, Acc 82.22%\n"
     ]
    },
    {
     "name": "stderr",
     "output_type": "stream",
     "text": [
      "                                                          \r"
     ]
    },
    {
     "name": "stdout",
     "output_type": "stream",
     "text": [
      "    Epoch 5: Train Loss 0.0185, Acc 86.67%\n"
     ]
    },
    {
     "name": "stderr",
     "output_type": "stream",
     "text": [
      "                                                          \r"
     ]
    },
    {
     "name": "stdout",
     "output_type": "stream",
     "text": [
      "    Epoch 6: Train Loss 0.0151, Acc 87.78%\n"
     ]
    },
    {
     "name": "stderr",
     "output_type": "stream",
     "text": [
      "                                                          \r"
     ]
    },
    {
     "name": "stdout",
     "output_type": "stream",
     "text": [
      "    Epoch 7: Train Loss 0.0168, Acc 88.89%\n"
     ]
    },
    {
     "name": "stderr",
     "output_type": "stream",
     "text": [
      "                                                           \r"
     ]
    },
    {
     "name": "stdout",
     "output_type": "stream",
     "text": [
      "    Val F1: 0.9093\n",
      "  Fold 2/5\n",
      "\n",
      "=== 模型结构验证 ===\n",
      "输入维度: 69\n",
      "隐藏层维度: [159, 99, 40]\n",
      "输出维度: 4\n",
      "\n",
      "测试输入形状: torch.Size([2, 69])\n",
      "测试输出形状: torch.Size([2, 4])\n"
     ]
    },
    {
     "name": "stderr",
     "output_type": "stream",
     "text": [
      "                                                          \r"
     ]
    },
    {
     "name": "stdout",
     "output_type": "stream",
     "text": [
      "    Epoch 1: Train Loss 0.0548, Acc 38.08%\n"
     ]
    },
    {
     "name": "stderr",
     "output_type": "stream",
     "text": [
      "                                                          \r"
     ]
    },
    {
     "name": "stdout",
     "output_type": "stream",
     "text": [
      "    Epoch 2: Train Loss 0.0201, Acc 62.11%\n"
     ]
    },
    {
     "name": "stderr",
     "output_type": "stream",
     "text": [
      "                                                          \r"
     ]
    },
    {
     "name": "stdout",
     "output_type": "stream",
     "text": [
      "    Epoch 3: Train Loss 0.0332, Acc 71.90%\n"
     ]
    },
    {
     "name": "stderr",
     "output_type": "stream",
     "text": [
      "                                                          \r"
     ]
    },
    {
     "name": "stdout",
     "output_type": "stream",
     "text": [
      "    Epoch 4: Train Loss 0.0339, Acc 80.22%\n"
     ]
    },
    {
     "name": "stderr",
     "output_type": "stream",
     "text": [
      "                                                          \r"
     ]
    },
    {
     "name": "stdout",
     "output_type": "stream",
     "text": [
      "    Epoch 5: Train Loss 0.0200, Acc 82.99%\n"
     ]
    },
    {
     "name": "stderr",
     "output_type": "stream",
     "text": [
      "                                                          \r"
     ]
    },
    {
     "name": "stdout",
     "output_type": "stream",
     "text": [
      "    Epoch 6: Train Loss 0.0127, Acc 84.66%\n"
     ]
    },
    {
     "name": "stderr",
     "output_type": "stream",
     "text": [
      "                                                          \r"
     ]
    },
    {
     "name": "stdout",
     "output_type": "stream",
     "text": [
      "    Epoch 7: Train Loss 0.0037, Acc 88.72%\n"
     ]
    },
    {
     "name": "stderr",
     "output_type": "stream",
     "text": [
      "                                                           \r"
     ]
    },
    {
     "name": "stdout",
     "output_type": "stream",
     "text": [
      "    Val F1: 0.9282\n",
      "  Fold 3/5\n",
      "\n",
      "=== 模型结构验证 ===\n",
      "输入维度: 69\n",
      "隐藏层维度: [159, 99, 40]\n",
      "输出维度: 4\n",
      "\n",
      "测试输入形状: torch.Size([2, 69])\n",
      "测试输出形状: torch.Size([2, 4])\n"
     ]
    },
    {
     "name": "stderr",
     "output_type": "stream",
     "text": [
      "                                                          \r"
     ]
    },
    {
     "name": "stdout",
     "output_type": "stream",
     "text": [
      "    Epoch 1: Train Loss 0.0531, Acc 43.07%\n"
     ]
    },
    {
     "name": "stderr",
     "output_type": "stream",
     "text": [
      "                                                          \r"
     ]
    },
    {
     "name": "stdout",
     "output_type": "stream",
     "text": [
      "    Epoch 2: Train Loss 0.0434, Acc 66.17%\n"
     ]
    },
    {
     "name": "stderr",
     "output_type": "stream",
     "text": [
      "                                                          \r"
     ]
    },
    {
     "name": "stdout",
     "output_type": "stream",
     "text": [
      "    Epoch 3: Train Loss 0.0273, Acc 80.59%\n"
     ]
    },
    {
     "name": "stderr",
     "output_type": "stream",
     "text": [
      "                                                          \r"
     ]
    },
    {
     "name": "stdout",
     "output_type": "stream",
     "text": [
      "    Epoch 4: Train Loss 0.0431, Acc 81.33%\n"
     ]
    },
    {
     "name": "stderr",
     "output_type": "stream",
     "text": [
      "                                                          \r"
     ]
    },
    {
     "name": "stdout",
     "output_type": "stream",
     "text": [
      "    Epoch 5: Train Loss 0.0030, Acc 86.14%\n"
     ]
    },
    {
     "name": "stderr",
     "output_type": "stream",
     "text": [
      "                                                          \r"
     ]
    },
    {
     "name": "stdout",
     "output_type": "stream",
     "text": [
      "    Epoch 6: Train Loss 0.0034, Acc 86.14%\n"
     ]
    },
    {
     "name": "stderr",
     "output_type": "stream",
     "text": [
      "                                                          \r"
     ]
    },
    {
     "name": "stdout",
     "output_type": "stream",
     "text": [
      "    Epoch 7: Train Loss 0.0101, Acc 88.91%\n"
     ]
    },
    {
     "name": "stderr",
     "output_type": "stream",
     "text": [
      "                                                           \r"
     ]
    },
    {
     "name": "stdout",
     "output_type": "stream",
     "text": [
      "    Val F1: 0.9292\n",
      "  Fold 4/5\n",
      "\n",
      "=== 模型结构验证 ===\n",
      "输入维度: 69\n",
      "隐藏层维度: [159, 99, 40]\n",
      "输出维度: 4\n",
      "\n",
      "测试输入形状: torch.Size([2, 69])\n",
      "测试输出形状: torch.Size([2, 4])\n"
     ]
    },
    {
     "name": "stderr",
     "output_type": "stream",
     "text": [
      "                                                          \r"
     ]
    },
    {
     "name": "stdout",
     "output_type": "stream",
     "text": [
      "    Epoch 1: Train Loss 0.0520, Acc 43.25%\n"
     ]
    },
    {
     "name": "stderr",
     "output_type": "stream",
     "text": [
      "                                                          \r"
     ]
    },
    {
     "name": "stdout",
     "output_type": "stream",
     "text": [
      "    Epoch 2: Train Loss 0.0344, Acc 67.28%\n"
     ]
    },
    {
     "name": "stderr",
     "output_type": "stream",
     "text": [
      "                                                          \r"
     ]
    },
    {
     "name": "stdout",
     "output_type": "stream",
     "text": [
      "    Epoch 3: Train Loss 0.0359, Acc 78.00%\n"
     ]
    },
    {
     "name": "stderr",
     "output_type": "stream",
     "text": [
      "                                                          \r"
     ]
    },
    {
     "name": "stdout",
     "output_type": "stream",
     "text": [
      "    Epoch 4: Train Loss 0.0034, Acc 80.78%\n"
     ]
    },
    {
     "name": "stderr",
     "output_type": "stream",
     "text": [
      "                                                          \r"
     ]
    },
    {
     "name": "stdout",
     "output_type": "stream",
     "text": [
      "    Epoch 5: Train Loss 0.0085, Acc 84.47%\n"
     ]
    },
    {
     "name": "stderr",
     "output_type": "stream",
     "text": [
      "                                                          \r"
     ]
    },
    {
     "name": "stdout",
     "output_type": "stream",
     "text": [
      "    Epoch 6: Train Loss 0.0635, Acc 85.77%\n"
     ]
    },
    {
     "name": "stderr",
     "output_type": "stream",
     "text": [
      "                                                          \r"
     ]
    },
    {
     "name": "stdout",
     "output_type": "stream",
     "text": [
      "    Epoch 7: Train Loss 0.0190, Acc 88.72%\n"
     ]
    },
    {
     "name": "stderr",
     "output_type": "stream",
     "text": [
      "                                                           \r"
     ]
    },
    {
     "name": "stdout",
     "output_type": "stream",
     "text": [
      "    Val F1: 0.9192\n",
      "  Fold 5/5\n",
      "\n",
      "=== 模型结构验证 ===\n",
      "输入维度: 69\n",
      "隐藏层维度: [159, 99, 40]\n",
      "输出维度: 4\n",
      "\n",
      "测试输入形状: torch.Size([2, 69])\n",
      "测试输出形状: torch.Size([2, 4])\n"
     ]
    },
    {
     "name": "stderr",
     "output_type": "stream",
     "text": [
      "                                                          \r"
     ]
    },
    {
     "name": "stdout",
     "output_type": "stream",
     "text": [
      "    Epoch 1: Train Loss 0.0335, Acc 41.40%\n"
     ]
    },
    {
     "name": "stderr",
     "output_type": "stream",
     "text": [
      "                                                          \r"
     ]
    },
    {
     "name": "stdout",
     "output_type": "stream",
     "text": [
      "    Epoch 2: Train Loss 0.0326, Acc 65.25%\n"
     ]
    },
    {
     "name": "stderr",
     "output_type": "stream",
     "text": [
      "                                                          \r"
     ]
    },
    {
     "name": "stdout",
     "output_type": "stream",
     "text": [
      "    Epoch 3: Train Loss 0.0126, Acc 76.71%\n"
     ]
    },
    {
     "name": "stderr",
     "output_type": "stream",
     "text": [
      "                                                          \r"
     ]
    },
    {
     "name": "stdout",
     "output_type": "stream",
     "text": [
      "    Epoch 4: Train Loss 0.0291, Acc 80.04%\n"
     ]
    },
    {
     "name": "stderr",
     "output_type": "stream",
     "text": [
      "                                                          \r"
     ]
    },
    {
     "name": "stdout",
     "output_type": "stream",
     "text": [
      "    Epoch 5: Train Loss 0.0309, Acc 83.92%\n"
     ]
    },
    {
     "name": "stderr",
     "output_type": "stream",
     "text": [
      "                                                          \r"
     ]
    },
    {
     "name": "stdout",
     "output_type": "stream",
     "text": [
      "    Epoch 6: Train Loss 0.0046, Acc 86.32%\n"
     ]
    },
    {
     "name": "stderr",
     "output_type": "stream",
     "text": [
      "                                                          \r"
     ]
    },
    {
     "name": "stdout",
     "output_type": "stream",
     "text": [
      "    Epoch 7: Train Loss 0.0296, Acc 87.62%\n"
     ]
    },
    {
     "name": "stderr",
     "output_type": "stream",
     "text": [
      "                                                           \r"
     ]
    },
    {
     "name": "stdout",
     "output_type": "stream",
     "text": [
      "    Val F1: 0.8404\n",
      "\n",
      "Iteration 9/10: Testing params {'lr': 0.0001818184709564145, 'batch_size': 16.753862006795753, 'hidden_dim1': 142.03508868488439, 'hidden_dim2': 104.15654666899776, 'hidden_dim3': 57.34653965961485, 'dropout': 0.14221599667996843, 'scaling_factor': 1.5717493553676145e-05, 'prior_sigma1': 0.6908096432532684, 'prior_sigma2': 0.09965092422160872, 'prior_pi': 0.3822785862747843, 'epochs_per_fold': 9.855391888068091}\n",
      "  Fold 1/5\n",
      "\n",
      "=== 模型结构验证 ===\n",
      "输入维度: 69\n",
      "隐藏层维度: [142, 104, 57]\n",
      "输出维度: 4\n",
      "\n",
      "测试输入形状: torch.Size([2, 69])\n",
      "测试输出形状: torch.Size([2, 4])\n"
     ]
    },
    {
     "name": "stderr",
     "output_type": "stream",
     "text": [
      "                                                          \r"
     ]
    },
    {
     "name": "stdout",
     "output_type": "stream",
     "text": [
      "    Epoch 1: Train Loss 0.0399, Acc 28.52%\n"
     ]
    },
    {
     "name": "stderr",
     "output_type": "stream",
     "text": [
      "                                                          \r"
     ]
    },
    {
     "name": "stdout",
     "output_type": "stream",
     "text": [
      "    Epoch 2: Train Loss 0.0361, Acc 48.70%\n"
     ]
    },
    {
     "name": "stderr",
     "output_type": "stream",
     "text": [
      "                                                          \r"
     ]
    },
    {
     "name": "stdout",
     "output_type": "stream",
     "text": [
      "    Epoch 3: Train Loss 0.0262, Acc 63.89%\n"
     ]
    },
    {
     "name": "stderr",
     "output_type": "stream",
     "text": [
      "                                                          \r"
     ]
    },
    {
     "name": "stdout",
     "output_type": "stream",
     "text": [
      "    Epoch 4: Train Loss 0.0309, Acc 70.00%\n"
     ]
    },
    {
     "name": "stderr",
     "output_type": "stream",
     "text": [
      "                                                          \r"
     ]
    },
    {
     "name": "stdout",
     "output_type": "stream",
     "text": [
      "    Epoch 5: Train Loss 0.0212, Acc 74.81%\n"
     ]
    },
    {
     "name": "stderr",
     "output_type": "stream",
     "text": [
      "                                                          \r"
     ]
    },
    {
     "name": "stdout",
     "output_type": "stream",
     "text": [
      "    Epoch 6: Train Loss 0.0224, Acc 76.67%\n"
     ]
    },
    {
     "name": "stderr",
     "output_type": "stream",
     "text": [
      "                                                          \r"
     ]
    },
    {
     "name": "stdout",
     "output_type": "stream",
     "text": [
      "    Epoch 7: Train Loss 0.0180, Acc 77.96%\n"
     ]
    },
    {
     "name": "stderr",
     "output_type": "stream",
     "text": [
      "                                                          \r"
     ]
    },
    {
     "name": "stdout",
     "output_type": "stream",
     "text": [
      "    Epoch 8: Train Loss 0.0148, Acc 81.30%\n"
     ]
    },
    {
     "name": "stderr",
     "output_type": "stream",
     "text": [
      "                                                          \r"
     ]
    },
    {
     "name": "stdout",
     "output_type": "stream",
     "text": [
      "    Epoch 9: Train Loss 0.0108, Acc 84.44%\n"
     ]
    },
    {
     "name": "stderr",
     "output_type": "stream",
     "text": [
      "                                                           \r"
     ]
    },
    {
     "name": "stdout",
     "output_type": "stream",
     "text": [
      "    Val F1: 0.8719\n",
      "  Fold 2/5\n",
      "\n",
      "=== 模型结构验证 ===\n",
      "输入维度: 69\n",
      "隐藏层维度: [142, 104, 57]\n",
      "输出维度: 4\n",
      "\n",
      "测试输入形状: torch.Size([2, 69])\n",
      "测试输出形状: torch.Size([2, 4])\n"
     ]
    },
    {
     "name": "stderr",
     "output_type": "stream",
     "text": [
      "                                                          \r"
     ]
    },
    {
     "name": "stdout",
     "output_type": "stream",
     "text": [
      "    Epoch 1: Train Loss 0.0404, Acc 33.27%\n"
     ]
    },
    {
     "name": "stderr",
     "output_type": "stream",
     "text": [
      "                                                          \r"
     ]
    },
    {
     "name": "stdout",
     "output_type": "stream",
     "text": [
      "    Epoch 2: Train Loss 0.0341, Acc 51.57%\n"
     ]
    },
    {
     "name": "stderr",
     "output_type": "stream",
     "text": [
      "                                                          \r"
     ]
    },
    {
     "name": "stdout",
     "output_type": "stream",
     "text": [
      "    Epoch 3: Train Loss 0.0287, Acc 58.41%\n"
     ]
    },
    {
     "name": "stderr",
     "output_type": "stream",
     "text": [
      "                                                          \r"
     ]
    },
    {
     "name": "stdout",
     "output_type": "stream",
     "text": [
      "    Epoch 4: Train Loss 0.0223, Acc 67.84%\n"
     ]
    },
    {
     "name": "stderr",
     "output_type": "stream",
     "text": [
      "                                                          \r"
     ]
    },
    {
     "name": "stdout",
     "output_type": "stream",
     "text": [
      "    Epoch 5: Train Loss 0.0245, Acc 72.46%\n"
     ]
    },
    {
     "name": "stderr",
     "output_type": "stream",
     "text": [
      "                                                          \r"
     ]
    },
    {
     "name": "stdout",
     "output_type": "stream",
     "text": [
      "    Epoch 6: Train Loss 0.0210, Acc 76.52%\n"
     ]
    },
    {
     "name": "stderr",
     "output_type": "stream",
     "text": [
      "                                                          \r"
     ]
    },
    {
     "name": "stdout",
     "output_type": "stream",
     "text": [
      "    Epoch 7: Train Loss 0.0144, Acc 79.67%\n"
     ]
    },
    {
     "name": "stderr",
     "output_type": "stream",
     "text": [
      "                                                          \r"
     ]
    },
    {
     "name": "stdout",
     "output_type": "stream",
     "text": [
      "    Epoch 8: Train Loss 0.0117, Acc 80.78%\n"
     ]
    },
    {
     "name": "stderr",
     "output_type": "stream",
     "text": [
      "                                                          \r"
     ]
    },
    {
     "name": "stdout",
     "output_type": "stream",
     "text": [
      "    Epoch 9: Train Loss 0.0138, Acc 85.21%\n"
     ]
    },
    {
     "name": "stderr",
     "output_type": "stream",
     "text": [
      "                                                           \r"
     ]
    },
    {
     "name": "stdout",
     "output_type": "stream",
     "text": [
      "    Val F1: 0.8552\n",
      "  Fold 3/5\n",
      "\n",
      "=== 模型结构验证 ===\n",
      "输入维度: 69\n",
      "隐藏层维度: [142, 104, 57]\n",
      "输出维度: 4\n",
      "\n",
      "测试输入形状: torch.Size([2, 69])\n",
      "测试输出形状: torch.Size([2, 4])\n"
     ]
    },
    {
     "name": "stderr",
     "output_type": "stream",
     "text": [
      "                                                          \r"
     ]
    },
    {
     "name": "stdout",
     "output_type": "stream",
     "text": [
      "    Epoch 1: Train Loss 0.0383, Acc 24.95%\n"
     ]
    },
    {
     "name": "stderr",
     "output_type": "stream",
     "text": [
      "                                                          \r"
     ]
    },
    {
     "name": "stdout",
     "output_type": "stream",
     "text": [
      "    Epoch 2: Train Loss 0.0377, Acc 42.88%\n"
     ]
    },
    {
     "name": "stderr",
     "output_type": "stream",
     "text": [
      "                                                          \r"
     ]
    },
    {
     "name": "stdout",
     "output_type": "stream",
     "text": [
      "    Epoch 3: Train Loss 0.0322, Acc 54.34%\n"
     ]
    },
    {
     "name": "stderr",
     "output_type": "stream",
     "text": [
      "                                                          \r"
     ]
    },
    {
     "name": "stdout",
     "output_type": "stream",
     "text": [
      "    Epoch 4: Train Loss 0.0278, Acc 67.84%\n"
     ]
    },
    {
     "name": "stderr",
     "output_type": "stream",
     "text": [
      "                                                          \r"
     ]
    },
    {
     "name": "stdout",
     "output_type": "stream",
     "text": [
      "    Epoch 5: Train Loss 0.0203, Acc 74.86%\n"
     ]
    },
    {
     "name": "stderr",
     "output_type": "stream",
     "text": [
      "                                                          \r"
     ]
    },
    {
     "name": "stdout",
     "output_type": "stream",
     "text": [
      "    Epoch 6: Train Loss 0.0189, Acc 76.16%\n"
     ]
    },
    {
     "name": "stderr",
     "output_type": "stream",
     "text": [
      "                                                          \r"
     ]
    },
    {
     "name": "stdout",
     "output_type": "stream",
     "text": [
      "    Epoch 7: Train Loss 0.0193, Acc 78.93%\n"
     ]
    },
    {
     "name": "stderr",
     "output_type": "stream",
     "text": [
      "                                                          \r"
     ]
    },
    {
     "name": "stdout",
     "output_type": "stream",
     "text": [
      "    Epoch 8: Train Loss 0.0131, Acc 81.70%\n"
     ]
    },
    {
     "name": "stderr",
     "output_type": "stream",
     "text": [
      "                                                          \r"
     ]
    },
    {
     "name": "stdout",
     "output_type": "stream",
     "text": [
      "    Epoch 9: Train Loss 0.0128, Acc 82.44%\n"
     ]
    },
    {
     "name": "stderr",
     "output_type": "stream",
     "text": [
      "                                                           \r"
     ]
    },
    {
     "name": "stdout",
     "output_type": "stream",
     "text": [
      "    Val F1: 0.7812\n",
      "  Fold 4/5\n",
      "\n",
      "=== 模型结构验证 ===\n",
      "输入维度: 69\n",
      "隐藏层维度: [142, 104, 57]\n",
      "输出维度: 4\n",
      "\n",
      "测试输入形状: torch.Size([2, 69])\n",
      "测试输出形状: torch.Size([2, 4])\n"
     ]
    },
    {
     "name": "stderr",
     "output_type": "stream",
     "text": [
      "                                                          \r"
     ]
    },
    {
     "name": "stdout",
     "output_type": "stream",
     "text": [
      "    Epoch 1: Train Loss 0.0365, Acc 31.61%\n"
     ]
    },
    {
     "name": "stderr",
     "output_type": "stream",
     "text": [
      "                                                          \r"
     ]
    },
    {
     "name": "stdout",
     "output_type": "stream",
     "text": [
      "    Epoch 2: Train Loss 0.0354, Acc 50.28%\n"
     ]
    },
    {
     "name": "stderr",
     "output_type": "stream",
     "text": [
      "                                                          \r"
     ]
    },
    {
     "name": "stdout",
     "output_type": "stream",
     "text": [
      "    Epoch 3: Train Loss 0.0264, Acc 65.80%\n"
     ]
    },
    {
     "name": "stderr",
     "output_type": "stream",
     "text": [
      "                                                          \r"
     ]
    },
    {
     "name": "stdout",
     "output_type": "stream",
     "text": [
      "    Epoch 4: Train Loss 0.0218, Acc 73.75%\n"
     ]
    },
    {
     "name": "stderr",
     "output_type": "stream",
     "text": [
      "                                                          \r"
     ]
    },
    {
     "name": "stdout",
     "output_type": "stream",
     "text": [
      "    Epoch 5: Train Loss 0.0189, Acc 73.75%\n"
     ]
    },
    {
     "name": "stderr",
     "output_type": "stream",
     "text": [
      "                                                          \r"
     ]
    },
    {
     "name": "stdout",
     "output_type": "stream",
     "text": [
      "    Epoch 6: Train Loss 0.0171, Acc 77.63%\n"
     ]
    },
    {
     "name": "stderr",
     "output_type": "stream",
     "text": [
      "                                                          \r"
     ]
    },
    {
     "name": "stdout",
     "output_type": "stream",
     "text": [
      "    Epoch 7: Train Loss 0.0153, Acc 79.85%\n"
     ]
    },
    {
     "name": "stderr",
     "output_type": "stream",
     "text": [
      "                                                          \r"
     ]
    },
    {
     "name": "stdout",
     "output_type": "stream",
     "text": [
      "    Epoch 8: Train Loss 0.0140, Acc 83.55%\n"
     ]
    },
    {
     "name": "stderr",
     "output_type": "stream",
     "text": [
      "                                                          \r"
     ]
    },
    {
     "name": "stdout",
     "output_type": "stream",
     "text": [
      "    Epoch 9: Train Loss 0.0198, Acc 84.84%\n"
     ]
    },
    {
     "name": "stderr",
     "output_type": "stream",
     "text": [
      "                                                           \r"
     ]
    },
    {
     "name": "stdout",
     "output_type": "stream",
     "text": [
      "    Val F1: 0.8953\n",
      "  Fold 5/5\n",
      "\n",
      "=== 模型结构验证 ===\n",
      "输入维度: 69\n",
      "隐藏层维度: [142, 104, 57]\n",
      "输出维度: 4\n",
      "\n",
      "测试输入形状: torch.Size([2, 69])\n",
      "测试输出形状: torch.Size([2, 4])\n"
     ]
    },
    {
     "name": "stderr",
     "output_type": "stream",
     "text": [
      "                                                          \r"
     ]
    },
    {
     "name": "stdout",
     "output_type": "stream",
     "text": [
      "    Epoch 1: Train Loss 0.0377, Acc 35.86%\n"
     ]
    },
    {
     "name": "stderr",
     "output_type": "stream",
     "text": [
      "                                                          \r"
     ]
    },
    {
     "name": "stdout",
     "output_type": "stream",
     "text": [
      "    Epoch 2: Train Loss 0.0302, Acc 50.83%\n"
     ]
    },
    {
     "name": "stderr",
     "output_type": "stream",
     "text": [
      "                                                          \r"
     ]
    },
    {
     "name": "stdout",
     "output_type": "stream",
     "text": [
      "    Epoch 3: Train Loss 0.0304, Acc 60.63%\n"
     ]
    },
    {
     "name": "stderr",
     "output_type": "stream",
     "text": [
      "                                                          \r"
     ]
    },
    {
     "name": "stdout",
     "output_type": "stream",
     "text": [
      "    Epoch 4: Train Loss 0.0269, Acc 71.90%\n"
     ]
    },
    {
     "name": "stderr",
     "output_type": "stream",
     "text": [
      "                                                          \r"
     ]
    },
    {
     "name": "stdout",
     "output_type": "stream",
     "text": [
      "    Epoch 5: Train Loss 0.0216, Acc 79.67%\n"
     ]
    },
    {
     "name": "stderr",
     "output_type": "stream",
     "text": [
      "                                                          \r"
     ]
    },
    {
     "name": "stdout",
     "output_type": "stream",
     "text": [
      "    Epoch 6: Train Loss 0.0177, Acc 78.74%\n"
     ]
    },
    {
     "name": "stderr",
     "output_type": "stream",
     "text": [
      "                                                          \r"
     ]
    },
    {
     "name": "stdout",
     "output_type": "stream",
     "text": [
      "    Epoch 7: Train Loss 0.0213, Acc 83.18%\n"
     ]
    },
    {
     "name": "stderr",
     "output_type": "stream",
     "text": [
      "                                                          \r"
     ]
    },
    {
     "name": "stdout",
     "output_type": "stream",
     "text": [
      "    Epoch 8: Train Loss 0.0163, Acc 82.81%\n"
     ]
    },
    {
     "name": "stderr",
     "output_type": "stream",
     "text": [
      "                                                          \r"
     ]
    },
    {
     "name": "stdout",
     "output_type": "stream",
     "text": [
      "    Epoch 9: Train Loss 0.0108, Acc 85.58%\n"
     ]
    },
    {
     "name": "stderr",
     "output_type": "stream",
     "text": [
      "                                                           \r"
     ]
    },
    {
     "name": "stdout",
     "output_type": "stream",
     "text": [
      "    Val F1: 0.8465\n",
      "\n",
      "Iteration 10/10: Testing params {'lr': 0.0008747017320110483, 'batch_size': 16.183696351085114, 'hidden_dim1': 220.2523928781049, 'hidden_dim2': 107.6294636177008, 'hidden_dim3': 49.183050573081445, 'dropout': 0.1266825189952543, 'scaling_factor': 6.768656187218273e-05, 'prior_sigma1': 0.5557760867979382, 'prior_sigma2': 0.04912887256021946, 'prior_pi': 0.3634309265823016, 'epochs_per_fold': 9.769079637605401}\n",
      "  Fold 1/5\n",
      "\n",
      "=== 模型结构验证 ===\n",
      "输入维度: 69\n",
      "隐藏层维度: [220, 107, 49]\n",
      "输出维度: 4\n",
      "\n",
      "测试输入形状: torch.Size([2, 69])\n",
      "测试输出形状: torch.Size([2, 4])\n"
     ]
    },
    {
     "name": "stderr",
     "output_type": "stream",
     "text": [
      "                                                          \r"
     ]
    },
    {
     "name": "stdout",
     "output_type": "stream",
     "text": [
      "    Epoch 1: Train Loss 0.0267, Acc 60.93%\n"
     ]
    },
    {
     "name": "stderr",
     "output_type": "stream",
     "text": [
      "                                                          \r"
     ]
    },
    {
     "name": "stdout",
     "output_type": "stream",
     "text": [
      "    Epoch 2: Train Loss 0.0123, Acc 83.15%\n"
     ]
    },
    {
     "name": "stderr",
     "output_type": "stream",
     "text": [
      "                                                          \r"
     ]
    },
    {
     "name": "stdout",
     "output_type": "stream",
     "text": [
      "    Epoch 3: Train Loss 0.0082, Acc 87.59%\n"
     ]
    },
    {
     "name": "stderr",
     "output_type": "stream",
     "text": [
      "                                                          \r"
     ]
    },
    {
     "name": "stdout",
     "output_type": "stream",
     "text": [
      "    Epoch 4: Train Loss 0.0027, Acc 92.22%\n"
     ]
    },
    {
     "name": "stderr",
     "output_type": "stream",
     "text": [
      "                                                          \r"
     ]
    },
    {
     "name": "stdout",
     "output_type": "stream",
     "text": [
      "    Epoch 5: Train Loss 0.0113, Acc 92.78%\n"
     ]
    },
    {
     "name": "stderr",
     "output_type": "stream",
     "text": [
      "                                                          \r"
     ]
    },
    {
     "name": "stdout",
     "output_type": "stream",
     "text": [
      "    Epoch 6: Train Loss 0.0034, Acc 95.00%\n"
     ]
    },
    {
     "name": "stderr",
     "output_type": "stream",
     "text": [
      "                                                          \r"
     ]
    },
    {
     "name": "stdout",
     "output_type": "stream",
     "text": [
      "    Epoch 7: Train Loss 0.0048, Acc 95.56%\n"
     ]
    },
    {
     "name": "stderr",
     "output_type": "stream",
     "text": [
      "                                                          \r"
     ]
    },
    {
     "name": "stdout",
     "output_type": "stream",
     "text": [
      "    Epoch 8: Train Loss 0.0023, Acc 96.30%\n"
     ]
    },
    {
     "name": "stderr",
     "output_type": "stream",
     "text": [
      "                                                          \r"
     ]
    },
    {
     "name": "stdout",
     "output_type": "stream",
     "text": [
      "    Epoch 9: Train Loss 0.0042, Acc 96.85%\n"
     ]
    },
    {
     "name": "stderr",
     "output_type": "stream",
     "text": [
      "                                                           \r"
     ]
    },
    {
     "name": "stdout",
     "output_type": "stream",
     "text": [
      "    Val F1: 0.9330\n",
      "  Fold 2/5\n",
      "\n",
      "=== 模型结构验证 ===\n",
      "输入维度: 69\n",
      "隐藏层维度: [220, 107, 49]\n",
      "输出维度: 4\n",
      "\n",
      "测试输入形状: torch.Size([2, 69])\n",
      "测试输出形状: torch.Size([2, 4])\n"
     ]
    },
    {
     "name": "stderr",
     "output_type": "stream",
     "text": [
      "                                                          \r"
     ]
    },
    {
     "name": "stdout",
     "output_type": "stream",
     "text": [
      "    Epoch 1: Train Loss 0.0273, Acc 55.27%\n"
     ]
    },
    {
     "name": "stderr",
     "output_type": "stream",
     "text": [
      "                                                          \r"
     ]
    },
    {
     "name": "stdout",
     "output_type": "stream",
     "text": [
      "    Epoch 2: Train Loss 0.0164, Acc 82.26%\n"
     ]
    },
    {
     "name": "stderr",
     "output_type": "stream",
     "text": [
      "                                                          \r"
     ]
    },
    {
     "name": "stdout",
     "output_type": "stream",
     "text": [
      "    Epoch 3: Train Loss 0.0103, Acc 88.54%\n"
     ]
    },
    {
     "name": "stderr",
     "output_type": "stream",
     "text": [
      "                                                          \r"
     ]
    },
    {
     "name": "stdout",
     "output_type": "stream",
     "text": [
      "    Epoch 4: Train Loss 0.0126, Acc 90.94%\n"
     ]
    },
    {
     "name": "stderr",
     "output_type": "stream",
     "text": [
      "                                                          \r"
     ]
    },
    {
     "name": "stdout",
     "output_type": "stream",
     "text": [
      "    Epoch 5: Train Loss 0.0121, Acc 92.79%\n"
     ]
    },
    {
     "name": "stderr",
     "output_type": "stream",
     "text": [
      "                                                          \r"
     ]
    },
    {
     "name": "stdout",
     "output_type": "stream",
     "text": [
      "    Epoch 6: Train Loss 0.0070, Acc 95.01%\n"
     ]
    },
    {
     "name": "stderr",
     "output_type": "stream",
     "text": [
      "                                                          \r"
     ]
    },
    {
     "name": "stdout",
     "output_type": "stream",
     "text": [
      "    Epoch 7: Train Loss 0.0050, Acc 95.38%\n"
     ]
    },
    {
     "name": "stderr",
     "output_type": "stream",
     "text": [
      "                                                          \r"
     ]
    },
    {
     "name": "stdout",
     "output_type": "stream",
     "text": [
      "    Epoch 8: Train Loss 0.0021, Acc 95.38%\n"
     ]
    },
    {
     "name": "stderr",
     "output_type": "stream",
     "text": [
      "                                                          \r"
     ]
    },
    {
     "name": "stdout",
     "output_type": "stream",
     "text": [
      "    Epoch 9: Train Loss 0.0025, Acc 95.56%\n"
     ]
    },
    {
     "name": "stderr",
     "output_type": "stream",
     "text": [
      "                                                           \r"
     ]
    },
    {
     "name": "stdout",
     "output_type": "stream",
     "text": [
      "    Val F1: 0.9614\n",
      "  Fold 3/5\n",
      "\n",
      "=== 模型结构验证 ===\n",
      "输入维度: 69\n",
      "隐藏层维度: [220, 107, 49]\n",
      "输出维度: 4\n",
      "\n",
      "测试输入形状: torch.Size([2, 69])\n",
      "测试输出形状: torch.Size([2, 4])\n"
     ]
    },
    {
     "name": "stderr",
     "output_type": "stream",
     "text": [
      "                                                          \r"
     ]
    },
    {
     "name": "stdout",
     "output_type": "stream",
     "text": [
      "    Epoch 1: Train Loss 0.0230, Acc 55.27%\n"
     ]
    },
    {
     "name": "stderr",
     "output_type": "stream",
     "text": [
      "                                                          \r"
     ]
    },
    {
     "name": "stdout",
     "output_type": "stream",
     "text": [
      "    Epoch 2: Train Loss 0.0154, Acc 81.70%\n"
     ]
    },
    {
     "name": "stderr",
     "output_type": "stream",
     "text": [
      "                                                          \r"
     ]
    },
    {
     "name": "stdout",
     "output_type": "stream",
     "text": [
      "    Epoch 3: Train Loss 0.0187, Acc 87.06%\n"
     ]
    },
    {
     "name": "stderr",
     "output_type": "stream",
     "text": [
      "                                                          \r"
     ]
    },
    {
     "name": "stdout",
     "output_type": "stream",
     "text": [
      "    Epoch 4: Train Loss 0.0056, Acc 91.31%\n"
     ]
    },
    {
     "name": "stderr",
     "output_type": "stream",
     "text": [
      "                                                          \r"
     ]
    },
    {
     "name": "stdout",
     "output_type": "stream",
     "text": [
      "    Epoch 5: Train Loss 0.0178, Acc 92.79%\n"
     ]
    },
    {
     "name": "stderr",
     "output_type": "stream",
     "text": [
      "                                                          \r"
     ]
    },
    {
     "name": "stdout",
     "output_type": "stream",
     "text": [
      "    Epoch 6: Train Loss 0.0054, Acc 93.16%\n"
     ]
    },
    {
     "name": "stderr",
     "output_type": "stream",
     "text": [
      "                                                          \r"
     ]
    },
    {
     "name": "stdout",
     "output_type": "stream",
     "text": [
      "    Epoch 7: Train Loss 0.0111, Acc 94.09%\n"
     ]
    },
    {
     "name": "stderr",
     "output_type": "stream",
     "text": [
      "                                                          \r"
     ]
    },
    {
     "name": "stdout",
     "output_type": "stream",
     "text": [
      "    Epoch 8: Train Loss 0.0028, Acc 95.56%\n"
     ]
    },
    {
     "name": "stderr",
     "output_type": "stream",
     "text": [
      "                                                          \r"
     ]
    },
    {
     "name": "stdout",
     "output_type": "stream",
     "text": [
      "    Epoch 9: Train Loss 0.0056, Acc 94.27%\n"
     ]
    },
    {
     "name": "stderr",
     "output_type": "stream",
     "text": [
      "                                                           \r"
     ]
    },
    {
     "name": "stdout",
     "output_type": "stream",
     "text": [
      "    Val F1: 0.9423\n",
      "  Fold 4/5\n",
      "\n",
      "=== 模型结构验证 ===\n",
      "输入维度: 69\n",
      "隐藏层维度: [220, 107, 49]\n",
      "输出维度: 4\n",
      "\n",
      "测试输入形状: torch.Size([2, 69])\n",
      "测试输出形状: torch.Size([2, 4])\n"
     ]
    },
    {
     "name": "stderr",
     "output_type": "stream",
     "text": [
      "                                                          \r"
     ]
    },
    {
     "name": "stdout",
     "output_type": "stream",
     "text": [
      "    Epoch 1: Train Loss 0.0318, Acc 58.04%\n"
     ]
    },
    {
     "name": "stderr",
     "output_type": "stream",
     "text": [
      "                                                          \r"
     ]
    },
    {
     "name": "stdout",
     "output_type": "stream",
     "text": [
      "    Epoch 2: Train Loss 0.0113, Acc 81.15%\n"
     ]
    },
    {
     "name": "stderr",
     "output_type": "stream",
     "text": [
      "                                                          \r"
     ]
    },
    {
     "name": "stdout",
     "output_type": "stream",
     "text": [
      "    Epoch 3: Train Loss 0.0054, Acc 87.62%\n"
     ]
    },
    {
     "name": "stderr",
     "output_type": "stream",
     "text": [
      "                                                          \r"
     ]
    },
    {
     "name": "stdout",
     "output_type": "stream",
     "text": [
      "    Epoch 4: Train Loss 0.0184, Acc 90.39%\n"
     ]
    },
    {
     "name": "stderr",
     "output_type": "stream",
     "text": [
      "                                                          \r"
     ]
    },
    {
     "name": "stdout",
     "output_type": "stream",
     "text": [
      "    Epoch 5: Train Loss 0.0039, Acc 92.24%\n"
     ]
    },
    {
     "name": "stderr",
     "output_type": "stream",
     "text": [
      "                                                          \r"
     ]
    },
    {
     "name": "stdout",
     "output_type": "stream",
     "text": [
      "    Epoch 6: Train Loss 0.0034, Acc 93.35%\n"
     ]
    },
    {
     "name": "stderr",
     "output_type": "stream",
     "text": [
      "                                                          \r"
     ]
    },
    {
     "name": "stdout",
     "output_type": "stream",
     "text": [
      "    Epoch 7: Train Loss 0.0030, Acc 94.64%\n"
     ]
    },
    {
     "name": "stderr",
     "output_type": "stream",
     "text": [
      "                                                          \r"
     ]
    },
    {
     "name": "stdout",
     "output_type": "stream",
     "text": [
      "    Epoch 8: Train Loss 0.0045, Acc 96.67%\n"
     ]
    },
    {
     "name": "stderr",
     "output_type": "stream",
     "text": [
      "                                                          \r"
     ]
    },
    {
     "name": "stdout",
     "output_type": "stream",
     "text": [
      "    Epoch 9: Train Loss 0.0142, Acc 95.38%\n"
     ]
    },
    {
     "name": "stderr",
     "output_type": "stream",
     "text": [
      "                                                           \r"
     ]
    },
    {
     "name": "stdout",
     "output_type": "stream",
     "text": [
      "    Val F1: 0.9712\n",
      "  Fold 5/5\n",
      "\n",
      "=== 模型结构验证 ===\n",
      "输入维度: 69\n",
      "隐藏层维度: [220, 107, 49]\n",
      "输出维度: 4\n",
      "\n",
      "测试输入形状: torch.Size([2, 69])\n",
      "测试输出形状: torch.Size([2, 4])\n"
     ]
    },
    {
     "name": "stderr",
     "output_type": "stream",
     "text": [
      "                                                          \r"
     ]
    },
    {
     "name": "stdout",
     "output_type": "stream",
     "text": [
      "    Epoch 1: Train Loss 0.0183, Acc 63.96%\n"
     ]
    },
    {
     "name": "stderr",
     "output_type": "stream",
     "text": [
      "                                                          \r"
     ]
    },
    {
     "name": "stdout",
     "output_type": "stream",
     "text": [
      "    Epoch 2: Train Loss 0.0248, Acc 80.04%\n"
     ]
    },
    {
     "name": "stderr",
     "output_type": "stream",
     "text": [
      "                                                          \r"
     ]
    },
    {
     "name": "stdout",
     "output_type": "stream",
     "text": [
      "    Epoch 3: Train Loss 0.0077, Acc 89.46%\n"
     ]
    },
    {
     "name": "stderr",
     "output_type": "stream",
     "text": [
      "                                                          \r"
     ]
    },
    {
     "name": "stdout",
     "output_type": "stream",
     "text": [
      "    Epoch 4: Train Loss 0.0061, Acc 90.94%\n"
     ]
    },
    {
     "name": "stderr",
     "output_type": "stream",
     "text": [
      "                                                          \r"
     ]
    },
    {
     "name": "stdout",
     "output_type": "stream",
     "text": [
      "    Epoch 5: Train Loss 0.0074, Acc 92.05%\n"
     ]
    },
    {
     "name": "stderr",
     "output_type": "stream",
     "text": [
      "                                                          \r"
     ]
    },
    {
     "name": "stdout",
     "output_type": "stream",
     "text": [
      "    Epoch 6: Train Loss 0.0021, Acc 93.53%\n"
     ]
    },
    {
     "name": "stderr",
     "output_type": "stream",
     "text": [
      "                                                          \r"
     ]
    },
    {
     "name": "stdout",
     "output_type": "stream",
     "text": [
      "    Epoch 7: Train Loss 0.0067, Acc 94.82%\n"
     ]
    },
    {
     "name": "stderr",
     "output_type": "stream",
     "text": [
      "                                                          \r"
     ]
    },
    {
     "name": "stdout",
     "output_type": "stream",
     "text": [
      "    Epoch 8: Train Loss 0.0021, Acc 95.93%\n"
     ]
    },
    {
     "name": "stderr",
     "output_type": "stream",
     "text": [
      "                                                          \r"
     ]
    },
    {
     "name": "stdout",
     "output_type": "stream",
     "text": [
      "    Epoch 9: Train Loss 0.0030, Acc 96.49%\n"
     ]
    },
    {
     "name": "stderr",
     "output_type": "stream",
     "text": [
      "                                                           \r"
     ]
    },
    {
     "name": "stdout",
     "output_type": "stream",
     "text": [
      "    Val F1: 0.9421\n",
      "New best params found with F1: 0.9500\n",
      "\n",
      "Best Hyperparameters:\n",
      "{'lr': 0.0008747017320110483, 'batch_size': 16.183696351085114, 'hidden_dim1': 220.2523928781049, 'hidden_dim2': 107.6294636177008, 'hidden_dim3': 49.183050573081445, 'dropout': 0.1266825189952543, 'scaling_factor': 6.768656187218273e-05, 'prior_sigma1': 0.5557760867979382, 'prior_sigma2': 0.04912887256021946, 'prior_pi': 0.3634309265823016, 'epochs_per_fold': 9.769079637605401}\n",
      "Best Validation F1: 0.9500\n",
      "\n",
      "Training final model...\n",
      "\n",
      "=== 模型结构验证 ===\n",
      "输入维度: 69\n",
      "隐藏层维度: [220, 107, 49]\n",
      "输出维度: 4\n",
      "\n",
      "测试输入形状: torch.Size([2, 69])\n",
      "测试输出形状: torch.Size([2, 4])\n"
     ]
    },
    {
     "name": "stderr",
     "output_type": "stream",
     "text": [
      "                                                            \r"
     ]
    },
    {
     "name": "stdout",
     "output_type": "stream",
     "text": [
      "\n",
      "Epoch 5:\n",
      "  Train Loss: 0.0013, Acc: 93.93%\n",
      "  Test Results:\n",
      "    Loss: 0.4435\n",
      "    Accuracy: 0.8605\n",
      "    Precision: 0.7047\n",
      "    Recall: 0.7792\n",
      "    F1: 0.7291\n",
      "    Avg Entropy: 0.2496\n"
     ]
    },
    {
     "name": "stderr",
     "output_type": "stream",
     "text": [
      "                                                            \r"
     ]
    },
    {
     "name": "stdout",
     "output_type": "stream",
     "text": [
      "\n",
      "Epoch 10:\n",
      "  Train Loss: 0.0017, Acc: 96.75%\n",
      "  Test Results:\n",
      "    Loss: 0.5300\n",
      "    Accuracy: 0.8372\n",
      "    Precision: 0.6908\n",
      "    Recall: 0.7661\n",
      "    F1: 0.7153\n",
      "    Avg Entropy: 0.1676\n"
     ]
    },
    {
     "name": "stderr",
     "output_type": "stream",
     "text": [
      "                                                            \r"
     ]
    },
    {
     "name": "stdout",
     "output_type": "stream",
     "text": [
      "\n",
      "Epoch 15:\n",
      "  Train Loss: 0.0151, Acc: 98.08%\n",
      "  Test Results:\n",
      "    Loss: 0.4735\n",
      "    Accuracy: 0.8837\n",
      "    Precision: 0.8598\n",
      "    Recall: 0.7931\n",
      "    F1: 0.7720\n",
      "    Avg Entropy: 0.1596\n"
     ]
    },
    {
     "name": "stderr",
     "output_type": "stream",
     "text": [
      "                                                            \r"
     ]
    },
    {
     "name": "stdout",
     "output_type": "stream",
     "text": [
      "\n",
      "Epoch 20:\n",
      "  Train Loss: 0.0011, Acc: 98.96%\n",
      "  Test Results:\n",
      "    Loss: 0.5742\n",
      "    Accuracy: 0.8605\n",
      "    Precision: 0.8459\n",
      "    Recall: 0.7792\n",
      "    F1: 0.7584\n",
      "    Avg Entropy: 0.1282\n"
     ]
    },
    {
     "name": "stderr",
     "output_type": "stream",
     "text": [
      "                                                            \r"
     ]
    },
    {
     "name": "stdout",
     "output_type": "stream",
     "text": [
      "\n",
      "Epoch 25:\n",
      "  Train Loss: 0.0016, Acc: 99.11%\n",
      "  Test Results:\n",
      "    Loss: 0.5539\n",
      "    Accuracy: 0.8372\n",
      "    Precision: 0.6908\n",
      "    Recall: 0.7661\n",
      "    F1: 0.7153\n",
      "    Avg Entropy: 0.1179\n"
     ]
    },
    {
     "name": "stderr",
     "output_type": "stream",
     "text": [
      "                                                            \r"
     ]
    },
    {
     "name": "stdout",
     "output_type": "stream",
     "text": [
      "\n",
      "Epoch 30:\n",
      "  Train Loss: 0.0012, Acc: 99.26%\n",
      "  Test Results:\n",
      "    Loss: 0.6496\n",
      "    Accuracy: 0.8372\n",
      "    Precision: 0.6917\n",
      "    Recall: 0.7646\n",
      "    F1: 0.7137\n",
      "    Avg Entropy: 0.1287\n"
     ]
    },
    {
     "name": "stderr",
     "output_type": "stream",
     "text": [
      "                                                            \r"
     ]
    },
    {
     "name": "stdout",
     "output_type": "stream",
     "text": [
      "\n",
      "Epoch 35:\n",
      "  Train Loss: 0.0011, Acc: 99.41%\n",
      "  Test Results:\n",
      "    Loss: 0.5273\n",
      "    Accuracy: 0.9070\n",
      "    Precision: 0.8986\n",
      "    Recall: 0.8070\n",
      "    F1: 0.8059\n",
      "    Avg Entropy: 0.0949\n"
     ]
    },
    {
     "name": "stderr",
     "output_type": "stream",
     "text": [
      "                                                            \r"
     ]
    },
    {
     "name": "stdout",
     "output_type": "stream",
     "text": [
      "\n",
      "Epoch 40:\n",
      "  Train Loss: 0.0013, Acc: 99.26%\n",
      "  Test Results:\n",
      "    Loss: 0.5130\n",
      "    Accuracy: 0.9070\n",
      "    Precision: 0.8986\n",
      "    Recall: 0.8070\n",
      "    F1: 0.8059\n",
      "    Avg Entropy: 0.0760\n"
     ]
    },
    {
     "name": "stderr",
     "output_type": "stream",
     "text": [
      "                                                            \r"
     ]
    },
    {
     "name": "stdout",
     "output_type": "stream",
     "text": [
      "\n",
      "Epoch 45:\n",
      "  Train Loss: 0.0010, Acc: 99.26%\n",
      "  Test Results:\n",
      "    Loss: 0.6980\n",
      "    Accuracy: 0.8605\n",
      "    Precision: 0.7333\n",
      "    Recall: 0.7792\n",
      "    F1: 0.7395\n",
      "    Avg Entropy: 0.0769\n"
     ]
    },
    {
     "name": "stderr",
     "output_type": "stream",
     "text": [
      "                                                            \r"
     ]
    },
    {
     "name": "stdout",
     "output_type": "stream",
     "text": [
      "\n",
      "Epoch 50:\n",
      "  Train Loss: 0.0009, Acc: 99.70%\n",
      "  Test Results:\n",
      "    Loss: 0.4852\n",
      "    Accuracy: 0.9070\n",
      "    Precision: 0.8986\n",
      "    Recall: 0.8070\n",
      "    F1: 0.8059\n",
      "    Avg Entropy: 0.0721\n",
      "\n",
      "Final Evaluation with 100 MC samples:\n"
     ]
    },
    {
     "name": "stderr",
     "output_type": "stream",
     "text": [
      "                                                             "
     ]
    },
    {
     "name": "stdout",
     "output_type": "stream",
     "text": [
      "\n",
      "--- Final Test Results ---\n",
      "Accuracy: 0.9070\n",
      "Precision: 0.8986\n",
      "Recall: 0.8070\n",
      "F1-Score: 0.8059\n",
      "Average Predictive Entropy: 0.0724\n"
     ]
    },
    {
     "name": "stderr",
     "output_type": "stream",
     "text": [
      "\r"
     ]
    }
   ],
   "execution_count": 6
  },
  {
   "cell_type": "code",
   "id": "621af3d6ba681c43",
   "metadata": {
    "ExecuteTime": {
     "end_time": "2025-04-17T10:59:08.682375Z",
     "start_time": "2025-04-17T10:59:08.679960Z"
    }
   },
   "source": [],
   "outputs": [],
   "execution_count": null
  },
  {
   "cell_type": "code",
   "id": "d8b8f4f9fa165dad",
   "metadata": {
    "ExecuteTime": {
     "end_time": "2025-04-16T10:14:40.367337Z",
     "start_time": "2025-04-16T10:14:40.365336Z"
    }
   },
   "source": [],
   "outputs": [],
   "execution_count": null
  },
  {
   "cell_type": "code",
   "execution_count": null,
   "id": "611e6208f01c0527",
   "metadata": {},
   "outputs": [],
   "source": []
  }
 ],
 "metadata": {
  "kernelspec": {
   "display_name": "Python 3 (ipykernel)",
   "language": "python",
   "name": "python3"
  },
  "language_info": {
   "codemirror_mode": {
    "name": "ipython",
    "version": 3
   },
   "file_extension": ".py",
   "mimetype": "text/x-python",
   "name": "python",
   "nbconvert_exporter": "python",
   "pygments_lexer": "ipython3",
   "version": "3.11.5"
  }
 },
 "nbformat": 4,
 "nbformat_minor": 5
}
